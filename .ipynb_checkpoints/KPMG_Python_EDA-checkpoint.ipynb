{
 "cells": [
  {
   "cell_type": "markdown",
   "metadata": {},
   "source": [
    "# Data Quality Assessment - Sprocket Central Pty Ltd"
   ]
  },
  {
   "cell_type": "code",
   "execution_count": 1,
   "metadata": {},
   "outputs": [],
   "source": [
    "import pandas as pd"
   ]
  },
  {
   "cell_type": "markdown",
   "metadata": {},
   "source": [
    "##  CustomerDemographic"
   ]
  },
  {
   "cell_type": "code",
   "execution_count": 2,
   "metadata": {},
   "outputs": [],
   "source": [
    "# Import data\n",
    "df_demographic = pd.read_excel('KPMG_VI_New_raw_data_update_final.xlsx', sheet_name='CustomerDemographic', skiprows=[0])"
   ]
  },
  {
   "cell_type": "code",
   "execution_count": 3,
   "metadata": {},
   "outputs": [
    {
     "data": {
      "text/html": [
       "<div>\n",
       "<style scoped>\n",
       "    .dataframe tbody tr th:only-of-type {\n",
       "        vertical-align: middle;\n",
       "    }\n",
       "\n",
       "    .dataframe tbody tr th {\n",
       "        vertical-align: top;\n",
       "    }\n",
       "\n",
       "    .dataframe thead th {\n",
       "        text-align: right;\n",
       "    }\n",
       "</style>\n",
       "<table border=\"1\" class=\"dataframe\">\n",
       "  <thead>\n",
       "    <tr style=\"text-align: right;\">\n",
       "      <th></th>\n",
       "      <th>customer_id</th>\n",
       "      <th>first_name</th>\n",
       "      <th>last_name</th>\n",
       "      <th>gender</th>\n",
       "      <th>past_3_years_bike_related_purchases</th>\n",
       "      <th>DOB</th>\n",
       "      <th>job_title</th>\n",
       "      <th>job_industry_category</th>\n",
       "      <th>wealth_segment</th>\n",
       "      <th>deceased_indicator</th>\n",
       "      <th>default</th>\n",
       "      <th>owns_car</th>\n",
       "      <th>tenure</th>\n",
       "    </tr>\n",
       "  </thead>\n",
       "  <tbody>\n",
       "    <tr>\n",
       "      <th>0</th>\n",
       "      <td>1</td>\n",
       "      <td>Laraine</td>\n",
       "      <td>Medendorp</td>\n",
       "      <td>F</td>\n",
       "      <td>93</td>\n",
       "      <td>1953-10-12</td>\n",
       "      <td>Executive Secretary</td>\n",
       "      <td>Health</td>\n",
       "      <td>Mass Customer</td>\n",
       "      <td>N</td>\n",
       "      <td>\"'</td>\n",
       "      <td>Yes</td>\n",
       "      <td>11.0</td>\n",
       "    </tr>\n",
       "    <tr>\n",
       "      <th>1</th>\n",
       "      <td>2</td>\n",
       "      <td>Eli</td>\n",
       "      <td>Bockman</td>\n",
       "      <td>Male</td>\n",
       "      <td>81</td>\n",
       "      <td>1980-12-16</td>\n",
       "      <td>Administrative Officer</td>\n",
       "      <td>Financial Services</td>\n",
       "      <td>Mass Customer</td>\n",
       "      <td>N</td>\n",
       "      <td>&lt;script&gt;alert('hi')&lt;/script&gt;</td>\n",
       "      <td>Yes</td>\n",
       "      <td>16.0</td>\n",
       "    </tr>\n",
       "    <tr>\n",
       "      <th>2</th>\n",
       "      <td>3</td>\n",
       "      <td>Arlin</td>\n",
       "      <td>Dearle</td>\n",
       "      <td>Male</td>\n",
       "      <td>61</td>\n",
       "      <td>1954-01-20</td>\n",
       "      <td>Recruiting Manager</td>\n",
       "      <td>Property</td>\n",
       "      <td>Mass Customer</td>\n",
       "      <td>N</td>\n",
       "      <td>2018-02-01 00:00:00</td>\n",
       "      <td>Yes</td>\n",
       "      <td>15.0</td>\n",
       "    </tr>\n",
       "    <tr>\n",
       "      <th>3</th>\n",
       "      <td>4</td>\n",
       "      <td>Talbot</td>\n",
       "      <td>NaN</td>\n",
       "      <td>Male</td>\n",
       "      <td>33</td>\n",
       "      <td>1961-10-03</td>\n",
       "      <td>NaN</td>\n",
       "      <td>IT</td>\n",
       "      <td>Mass Customer</td>\n",
       "      <td>N</td>\n",
       "      <td>() { _; } &gt;_[$($())] { touch /tmp/blns.shellsh...</td>\n",
       "      <td>No</td>\n",
       "      <td>7.0</td>\n",
       "    </tr>\n",
       "    <tr>\n",
       "      <th>4</th>\n",
       "      <td>5</td>\n",
       "      <td>Sheila-kathryn</td>\n",
       "      <td>Calton</td>\n",
       "      <td>Female</td>\n",
       "      <td>56</td>\n",
       "      <td>1977-05-13</td>\n",
       "      <td>Senior Editor</td>\n",
       "      <td>NaN</td>\n",
       "      <td>Affluent Customer</td>\n",
       "      <td>N</td>\n",
       "      <td>NIL</td>\n",
       "      <td>Yes</td>\n",
       "      <td>8.0</td>\n",
       "    </tr>\n",
       "    <tr>\n",
       "      <th>...</th>\n",
       "      <td>...</td>\n",
       "      <td>...</td>\n",
       "      <td>...</td>\n",
       "      <td>...</td>\n",
       "      <td>...</td>\n",
       "      <td>...</td>\n",
       "      <td>...</td>\n",
       "      <td>...</td>\n",
       "      <td>...</td>\n",
       "      <td>...</td>\n",
       "      <td>...</td>\n",
       "      <td>...</td>\n",
       "      <td>...</td>\n",
       "    </tr>\n",
       "    <tr>\n",
       "      <th>3995</th>\n",
       "      <td>3996</td>\n",
       "      <td>Rosalia</td>\n",
       "      <td>Halgarth</td>\n",
       "      <td>Female</td>\n",
       "      <td>8</td>\n",
       "      <td>1975-08-09</td>\n",
       "      <td>VP Product Management</td>\n",
       "      <td>Health</td>\n",
       "      <td>Mass Customer</td>\n",
       "      <td>N</td>\n",
       "      <td>-100</td>\n",
       "      <td>No</td>\n",
       "      <td>19.0</td>\n",
       "    </tr>\n",
       "    <tr>\n",
       "      <th>3996</th>\n",
       "      <td>3997</td>\n",
       "      <td>Blanch</td>\n",
       "      <td>Nisuis</td>\n",
       "      <td>Female</td>\n",
       "      <td>87</td>\n",
       "      <td>2001-07-13</td>\n",
       "      <td>Statistician II</td>\n",
       "      <td>Manufacturing</td>\n",
       "      <td>High Net Worth</td>\n",
       "      <td>N</td>\n",
       "      <td>â¦testâ§</td>\n",
       "      <td>Yes</td>\n",
       "      <td>1.0</td>\n",
       "    </tr>\n",
       "    <tr>\n",
       "      <th>3997</th>\n",
       "      <td>3998</td>\n",
       "      <td>Sarene</td>\n",
       "      <td>Woolley</td>\n",
       "      <td>U</td>\n",
       "      <td>60</td>\n",
       "      <td>NaT</td>\n",
       "      <td>Assistant Manager</td>\n",
       "      <td>IT</td>\n",
       "      <td>High Net Worth</td>\n",
       "      <td>N</td>\n",
       "      <td>NaN</td>\n",
       "      <td>No</td>\n",
       "      <td>NaN</td>\n",
       "    </tr>\n",
       "    <tr>\n",
       "      <th>3998</th>\n",
       "      <td>3999</td>\n",
       "      <td>Patrizius</td>\n",
       "      <td>NaN</td>\n",
       "      <td>Male</td>\n",
       "      <td>11</td>\n",
       "      <td>1973-10-24</td>\n",
       "      <td>NaN</td>\n",
       "      <td>Manufacturing</td>\n",
       "      <td>Affluent Customer</td>\n",
       "      <td>N</td>\n",
       "      <td>Â¡â¢Â£Â¢âÂ§Â¶â¢ÂªÂºââ</td>\n",
       "      <td>Yes</td>\n",
       "      <td>10.0</td>\n",
       "    </tr>\n",
       "    <tr>\n",
       "      <th>3999</th>\n",
       "      <td>4000</td>\n",
       "      <td>Kippy</td>\n",
       "      <td>Oldland</td>\n",
       "      <td>Male</td>\n",
       "      <td>76</td>\n",
       "      <td>1991-11-05</td>\n",
       "      <td>Software Engineer IV</td>\n",
       "      <td>NaN</td>\n",
       "      <td>Affluent Customer</td>\n",
       "      <td>N</td>\n",
       "      <td>0/0</td>\n",
       "      <td>No</td>\n",
       "      <td>11.0</td>\n",
       "    </tr>\n",
       "  </tbody>\n",
       "</table>\n",
       "<p>4000 rows × 13 columns</p>\n",
       "</div>"
      ],
      "text/plain": [
       "      customer_id      first_name  last_name  gender  \\\n",
       "0               1         Laraine  Medendorp       F   \n",
       "1               2             Eli    Bockman    Male   \n",
       "2               3           Arlin     Dearle    Male   \n",
       "3               4          Talbot        NaN    Male   \n",
       "4               5  Sheila-kathryn     Calton  Female   \n",
       "...           ...             ...        ...     ...   \n",
       "3995         3996         Rosalia   Halgarth  Female   \n",
       "3996         3997          Blanch     Nisuis  Female   \n",
       "3997         3998          Sarene    Woolley       U   \n",
       "3998         3999       Patrizius        NaN    Male   \n",
       "3999         4000           Kippy    Oldland    Male   \n",
       "\n",
       "      past_3_years_bike_related_purchases        DOB               job_title  \\\n",
       "0                                      93 1953-10-12     Executive Secretary   \n",
       "1                                      81 1980-12-16  Administrative Officer   \n",
       "2                                      61 1954-01-20      Recruiting Manager   \n",
       "3                                      33 1961-10-03                     NaN   \n",
       "4                                      56 1977-05-13           Senior Editor   \n",
       "...                                   ...        ...                     ...   \n",
       "3995                                    8 1975-08-09   VP Product Management   \n",
       "3996                                   87 2001-07-13         Statistician II   \n",
       "3997                                   60        NaT       Assistant Manager   \n",
       "3998                                   11 1973-10-24                     NaN   \n",
       "3999                                   76 1991-11-05    Software Engineer IV   \n",
       "\n",
       "     job_industry_category     wealth_segment deceased_indicator  \\\n",
       "0                   Health      Mass Customer                  N   \n",
       "1       Financial Services      Mass Customer                  N   \n",
       "2                 Property      Mass Customer                  N   \n",
       "3                       IT      Mass Customer                  N   \n",
       "4                      NaN  Affluent Customer                  N   \n",
       "...                    ...                ...                ...   \n",
       "3995                Health      Mass Customer                  N   \n",
       "3996         Manufacturing     High Net Worth                  N   \n",
       "3997                    IT     High Net Worth                  N   \n",
       "3998         Manufacturing  Affluent Customer                  N   \n",
       "3999                   NaN  Affluent Customer                  N   \n",
       "\n",
       "                                                default owns_car  tenure  \n",
       "0                                                    \"'      Yes    11.0  \n",
       "1                          <script>alert('hi')</script>      Yes    16.0  \n",
       "2                                   2018-02-01 00:00:00      Yes    15.0  \n",
       "3     () { _; } >_[$($())] { touch /tmp/blns.shellsh...       No     7.0  \n",
       "4                                                   NIL      Yes     8.0  \n",
       "...                                                 ...      ...     ...  \n",
       "3995                                               -100       No    19.0  \n",
       "3996                                           â¦testâ§      Yes     1.0  \n",
       "3997                                                NaN       No     NaN  \n",
       "3998                             Â¡â¢Â£Â¢âÂ§Â¶â¢ÂªÂºââ       Yes    10.0  \n",
       "3999                                                0/0       No    11.0  \n",
       "\n",
       "[4000 rows x 13 columns]"
      ]
     },
     "execution_count": 3,
     "metadata": {},
     "output_type": "execute_result"
    }
   ],
   "source": [
    "# Overview\n",
    "df_demographic"
   ]
  },
  {
   "cell_type": "code",
   "execution_count": 4,
   "metadata": {
    "scrolled": false
   },
   "outputs": [
    {
     "name": "stdout",
     "output_type": "stream",
     "text": [
      "<class 'pandas.core.frame.DataFrame'>\n",
      "RangeIndex: 4000 entries, 0 to 3999\n",
      "Data columns (total 13 columns):\n",
      " #   Column                               Non-Null Count  Dtype         \n",
      "---  ------                               --------------  -----         \n",
      " 0   customer_id                          4000 non-null   int64         \n",
      " 1   first_name                           4000 non-null   object        \n",
      " 2   last_name                            3875 non-null   object        \n",
      " 3   gender                               4000 non-null   object        \n",
      " 4   past_3_years_bike_related_purchases  4000 non-null   int64         \n",
      " 5   DOB                                  3913 non-null   datetime64[ns]\n",
      " 6   job_title                            3494 non-null   object        \n",
      " 7   job_industry_category                3344 non-null   object        \n",
      " 8   wealth_segment                       4000 non-null   object        \n",
      " 9   deceased_indicator                   4000 non-null   object        \n",
      " 10  default                              3698 non-null   object        \n",
      " 11  owns_car                             4000 non-null   object        \n",
      " 12  tenure                               3913 non-null   float64       \n",
      "dtypes: datetime64[ns](1), float64(1), int64(2), object(9)\n",
      "memory usage: 2.4 MB\n"
     ]
    }
   ],
   "source": [
    "# Missing values + data types + memory usage\n",
    "df_demographic.info(memory_usage='deep')"
   ]
  },
  {
   "cell_type": "markdown",
   "metadata": {},
   "source": [
    "##### Customer id: duplicated values, removed values, range"
   ]
  },
  {
   "cell_type": "code",
   "execution_count": 5,
   "metadata": {
    "scrolled": true
   },
   "outputs": [
    {
     "name": "stdout",
     "output_type": "stream",
     "text": [
      "Duplicated values: 0\n",
      "No removed values\n",
      "Range: 1 to 4000\n"
     ]
    }
   ],
   "source": [
    "# Duplicated values\n",
    "print('Duplicated values:', df_demographic.customer_id.duplicated().sum())\n",
    "# Removed values\n",
    "print('No removed values') if not (df_demographic.customer_id.diff()>1).sum() else print('Some removed values')\n",
    "# Range\n",
    "print('Range:', df_demographic.customer_id.min(), 'to', df_demographic.customer_id.max())"
   ]
  },
  {
   "cell_type": "markdown",
   "metadata": {},
   "source": [
    "##### Name and Last name are not too much relevant for the analysis, as well as Deceased indicator"
   ]
  },
  {
   "cell_type": "code",
   "execution_count": 6,
   "metadata": {},
   "outputs": [],
   "source": [
    "# Drop first and last name\n",
    "df_demographic.drop(columns=['first_name', 'last_name', 'deceased_indicator'], inplace=True)"
   ]
  },
  {
   "cell_type": "markdown",
   "metadata": {},
   "source": [
    "##### Default column is full of errors, probably comming from encoding"
   ]
  },
  {
   "cell_type": "code",
   "execution_count": 7,
   "metadata": {},
   "outputs": [],
   "source": [
    "df_demographic.drop(columns=['default'], inplace=True)"
   ]
  },
  {
   "cell_type": "markdown",
   "metadata": {},
   "source": [
    "### Numerical variables"
   ]
  },
  {
   "cell_type": "code",
   "execution_count": 8,
   "metadata": {
    "scrolled": true
   },
   "outputs": [
    {
     "data": {
      "text/html": [
       "<div>\n",
       "<style scoped>\n",
       "    .dataframe tbody tr th:only-of-type {\n",
       "        vertical-align: middle;\n",
       "    }\n",
       "\n",
       "    .dataframe tbody tr th {\n",
       "        vertical-align: top;\n",
       "    }\n",
       "\n",
       "    .dataframe thead th {\n",
       "        text-align: right;\n",
       "    }\n",
       "</style>\n",
       "<table border=\"1\" class=\"dataframe\">\n",
       "  <thead>\n",
       "    <tr style=\"text-align: right;\">\n",
       "      <th></th>\n",
       "      <th>past_3_years_bike_related_purchases</th>\n",
       "      <th>tenure</th>\n",
       "    </tr>\n",
       "  </thead>\n",
       "  <tbody>\n",
       "    <tr>\n",
       "      <th>count</th>\n",
       "      <td>4000.000000</td>\n",
       "      <td>3913.000000</td>\n",
       "    </tr>\n",
       "    <tr>\n",
       "      <th>mean</th>\n",
       "      <td>48.890000</td>\n",
       "      <td>10.657041</td>\n",
       "    </tr>\n",
       "    <tr>\n",
       "      <th>std</th>\n",
       "      <td>28.715005</td>\n",
       "      <td>5.660146</td>\n",
       "    </tr>\n",
       "    <tr>\n",
       "      <th>min</th>\n",
       "      <td>0.000000</td>\n",
       "      <td>1.000000</td>\n",
       "    </tr>\n",
       "    <tr>\n",
       "      <th>25%</th>\n",
       "      <td>24.000000</td>\n",
       "      <td>6.000000</td>\n",
       "    </tr>\n",
       "    <tr>\n",
       "      <th>50%</th>\n",
       "      <td>48.000000</td>\n",
       "      <td>11.000000</td>\n",
       "    </tr>\n",
       "    <tr>\n",
       "      <th>75%</th>\n",
       "      <td>73.000000</td>\n",
       "      <td>15.000000</td>\n",
       "    </tr>\n",
       "    <tr>\n",
       "      <th>max</th>\n",
       "      <td>99.000000</td>\n",
       "      <td>22.000000</td>\n",
       "    </tr>\n",
       "  </tbody>\n",
       "</table>\n",
       "</div>"
      ],
      "text/plain": [
       "       past_3_years_bike_related_purchases       tenure\n",
       "count                          4000.000000  3913.000000\n",
       "mean                             48.890000    10.657041\n",
       "std                              28.715005     5.660146\n",
       "min                               0.000000     1.000000\n",
       "25%                              24.000000     6.000000\n",
       "50%                              48.000000    11.000000\n",
       "75%                              73.000000    15.000000\n",
       "max                              99.000000    22.000000"
      ]
     },
     "execution_count": 8,
     "metadata": {},
     "output_type": "execute_result"
    }
   ],
   "source": [
    "# Description\n",
    "df_demographic.drop(columns=['customer_id']).describe()"
   ]
  },
  {
   "cell_type": "code",
   "execution_count": 9,
   "metadata": {
    "scrolled": true
   },
   "outputs": [
    {
     "data": {
      "image/png": "[encoded data removed]",
      "text/plain": [
       "<Figure size 1080x216 with 2 Axes>"
      ]
     },
     "metadata": {
      "needs_background": "light"
     },
     "output_type": "display_data"
    }
   ],
   "source": [
    "# Distributions\n",
    "import matplotlib.pyplot as plt\n",
    "plt.figure(figsize = (15,3))\n",
    "plt.subplot(1,2,1); plt.title('past_3_years_bike_related_purchases')\n",
    "df_demographic.past_3_years_bike_related_purchases.hist()\n",
    "plt.subplot(1,2,2); plt.title('tenure')\n",
    "df_demographic.tenure.hist()\n",
    "plt.show()"
   ]
  },
  {
   "cell_type": "markdown",
   "metadata": {},
   "source": [
    "##### Tenure and DOB have missing values on the same customers?"
   ]
  },
  {
   "cell_type": "code",
   "execution_count": 10,
   "metadata": {
    "scrolled": false
   },
   "outputs": [
    {
     "data": {
      "text/plain": [
       "DOB       True\n",
       "tenure    True\n",
       "dtype: bool"
      ]
     },
     "execution_count": 10,
     "metadata": {},
     "output_type": "execute_result"
    }
   ],
   "source": [
    "# All missing values of tenure match the ones from DOB\n",
    "df_demographic.loc[df_demographic.tenure.isna(), ['DOB', 'tenure']].isna().all()"
   ]
  },
  {
   "cell_type": "markdown",
   "metadata": {},
   "source": [
    "##### Drop tenure and DOB missing values"
   ]
  },
  {
   "cell_type": "code",
   "execution_count": 11,
   "metadata": {
    "scrolled": true
   },
   "outputs": [],
   "source": [
    "# Drop since they are just 87 out of 4000 (~2%) samples\n",
    "df_demographic.drop(df_demographic.index[df_demographic.tenure.isna()], inplace = True)\n",
    "# Reset indexes\n",
    "df_demographic.reset_index(drop=True, inplace=True)"
   ]
  },
  {
   "cell_type": "markdown",
   "metadata": {},
   "source": [
    "### Datetime variables"
   ]
  },
  {
   "cell_type": "code",
   "execution_count": 12,
   "metadata": {
    "scrolled": false
   },
   "outputs": [
    {
     "data": {
      "text/plain": [
       "1843      1\n",
       "1931      1\n",
       "1935      1\n",
       "1940      1\n",
       "1943      1\n",
       "1944      1\n",
       "1953     19\n",
       "1954     61\n",
       "1955     58\n",
       "1956     63\n",
       "1957     71\n",
       "1958     55\n",
       "1959     94\n",
       "1960     58\n",
       "1961     60\n",
       "1962     76\n",
       "1963     59\n",
       "1964     85\n",
       "1965     69\n",
       "1966     65\n",
       "1967     73\n",
       "1968     69\n",
       "1969     78\n",
       "1970     57\n",
       "1971     88\n",
       "1972     54\n",
       "1973    122\n",
       "1974    152\n",
       "1975    114\n",
       "1976    152\n",
       "1977    204\n",
       "1978    217\n",
       "1979    118\n",
       "1980    123\n",
       "1981     79\n",
       "1982     41\n",
       "1983     40\n",
       "1984     43\n",
       "1985     91\n",
       "1986    114\n",
       "1987     72\n",
       "1988     72\n",
       "1989     74\n",
       "1990     53\n",
       "1991     48\n",
       "1992     74\n",
       "1993     60\n",
       "1994     79\n",
       "1995     90\n",
       "1996     67\n",
       "1997     74\n",
       "1998     80\n",
       "1999     60\n",
       "2000     42\n",
       "2001     34\n",
       "2002      6\n",
       "Name: DOB, dtype: int64"
      ]
     },
     "execution_count": 12,
     "metadata": {},
     "output_type": "execute_result"
    }
   ],
   "source": [
    "# Value counts ordered to see the years\n",
    "df_demographic.DOB.dt.year.value_counts().sort_index()"
   ]
  },
  {
   "cell_type": "markdown",
   "metadata": {},
   "source": [
    "##### Drop DOB error value"
   ]
  },
  {
   "cell_type": "code",
   "execution_count": 13,
   "metadata": {},
   "outputs": [],
   "source": [
    "# Drop since it is just one value\n",
    "df_demographic.drop(df_demographic.index[df_demographic.DOB.dt.year == 1843], inplace = True)\n",
    "# Reset indexes\n",
    "df_demographic.reset_index(drop=True, inplace=True)"
   ]
  },
  {
   "cell_type": "markdown",
   "metadata": {},
   "source": [
    "##### Create Age feature and drop DOB"
   ]
  },
  {
   "cell_type": "code",
   "execution_count": 14,
   "metadata": {},
   "outputs": [],
   "source": [
    "# Age feature\n",
    "import datetime\n",
    "df_demographic['Age'] = (datetime.datetime.today().year-df_demographic.DOB.dt.year).values\n",
    "\n",
    "# Drop DOB\n",
    "df_demographic.drop(columns=['DOB'], inplace=True)"
   ]
  },
  {
   "cell_type": "code",
   "execution_count": 15,
   "metadata": {},
   "outputs": [
    {
     "data": {
      "image/png": "[encoded data removed]",
      "text/plain": [
       "<Figure size 432x288 with 1 Axes>"
      ]
     },
     "metadata": {
      "needs_background": "light"
     },
     "output_type": "display_data"
    }
   ],
   "source": [
    "# Distribution of the new feature\n",
    "plt.figure(); plt.title('Age')\n",
    "df_demographic.Age.hist()\n",
    "plt.show()"
   ]
  },
  {
   "cell_type": "markdown",
   "metadata": {},
   "source": [
    "### Categorical variables"
   ]
  },
  {
   "cell_type": "code",
   "execution_count": 16,
   "metadata": {
    "scrolled": true
   },
   "outputs": [
    {
     "name": "stdout",
     "output_type": "stream",
     "text": [
      "GENDER\n",
      "['F' 'Male' 'Female' 'Femal' 'M'] \n",
      "\n",
      "WEALTH_SEGMENT\n",
      "['Mass Customer' 'Affluent Customer' 'High Net Worth'] \n",
      "\n",
      "OWNS_CAR\n",
      "['Yes' 'No'] \n",
      "\n"
     ]
    }
   ],
   "source": [
    "# Identify classes\n",
    "for cat in ['gender', 'wealth_segment', 'owns_car']:\n",
    "    print(cat.upper())\n",
    "    print(df_demographic[cat].unique(),'\\n')"
   ]
  },
  {
   "cell_type": "markdown",
   "metadata": {},
   "source": [
    "##### Gender typos"
   ]
  },
  {
   "cell_type": "code",
   "execution_count": 17,
   "metadata": {},
   "outputs": [],
   "source": [
    "# Replace typos\n",
    "df_demographic.gender = df_demographic.gender.replace(to_replace=['Female', 'Femal'], value='F')\n",
    "df_demographic.gender = df_demographic.gender.replace(to_replace='Male', value='M')"
   ]
  },
  {
   "cell_type": "markdown",
   "metadata": {},
   "source": [
    "##### Wealth segment relation with tenure"
   ]
  },
  {
   "cell_type": "code",
   "execution_count": 18,
   "metadata": {
    "scrolled": false
   },
   "outputs": [
    {
     "data": {
      "text/plain": [
       "<matplotlib.axes._subplots.AxesSubplot at 0x20a6b4ed3d0>"
      ]
     },
     "execution_count": 18,
     "metadata": {},
     "output_type": "execute_result"
    },
    {
     "data": {
      "image/png": "[encoded data removed]",
      "text/plain": [
       "<Figure size 1080x216 with 1 Axes>"
      ]
     },
     "metadata": {
      "needs_background": "light"
     },
     "output_type": "display_data"
    }
   ],
   "source": [
    "# Tenure countplot according the different wealth segments\n",
    "import seaborn as sns\n",
    "plt.figure(figsize=(15,3))\n",
    "sns.countplot(data=df_demographic, x='tenure', hue='wealth_segment', )"
   ]
  },
  {
   "cell_type": "code",
   "execution_count": 19,
   "metadata": {},
   "outputs": [],
   "source": [
    "# Tenure seems to not relate with wealth segment, and it seems that wealth segment could be more useful for client segmentation\n",
    "df_demographic.drop(columns='tenure', inplace=True)"
   ]
  },
  {
   "cell_type": "markdown",
   "metadata": {},
   "source": [
    "##### Job features classes"
   ]
  },
  {
   "cell_type": "code",
   "execution_count": 20,
   "metadata": {
    "scrolled": true
   },
   "outputs": [
    {
     "data": {
      "text/plain": [
       "['Executive Secretary',\n",
       " 'Administrative Officer',\n",
       " 'Recruiting Manager',\n",
       " nan,\n",
       " 'Senior Editor',\n",
       " 'Media Manager I',\n",
       " 'Business Systems Development Analyst',\n",
       " 'Senior Quality Engineer',\n",
       " 'Nuclear Power Engineer',\n",
       " 'Developer I',\n",
       " 'Account Executive',\n",
       " 'Junior Executive',\n",
       " 'Media Manager IV',\n",
       " 'Sales Associate',\n",
       " 'Professor',\n",
       " 'Geological Engineer',\n",
       " 'Project Manager',\n",
       " 'Safety Technician I',\n",
       " 'Research Assistant I',\n",
       " 'Accounting Assistant III',\n",
       " 'Editor',\n",
       " 'Research Nurse',\n",
       " 'Safety Technician III',\n",
       " 'Staff Accountant III',\n",
       " 'Legal Assistant',\n",
       " 'Product Engineer',\n",
       " 'Information Systems Manager',\n",
       " 'VP Quality Control',\n",
       " 'Social Worker',\n",
       " 'Senior Cost Accountant',\n",
       " 'Assistant Media Planner',\n",
       " 'Payment Adjustment Coordinator',\n",
       " 'Food Chemist',\n",
       " 'Accountant III',\n",
       " 'Director of Sales',\n",
       " 'Senior Financial Analyst',\n",
       " 'Registered Nurse',\n",
       " 'Biostatistician II',\n",
       " 'Computer Systems Analyst II',\n",
       " 'Software Test Engineer II',\n",
       " 'Paralegal',\n",
       " 'VP Sales',\n",
       " 'Chief Design Engineer',\n",
       " 'Office Assistant III',\n",
       " 'Physical Therapy Assistant',\n",
       " 'Help Desk Operator',\n",
       " 'Web Developer II',\n",
       " 'Research Associate',\n",
       " 'Teacher',\n",
       " 'VP Product Management',\n",
       " 'Statistician II',\n",
       " 'Automation Specialist IV',\n",
       " 'Data Coordiator',\n",
       " 'Software Test Engineer III',\n",
       " 'Internal Auditor',\n",
       " 'Analyst Programmer',\n",
       " 'Occupational Therapist',\n",
       " 'Speech Pathologist',\n",
       " 'Quality Control Specialist',\n",
       " 'Civil Engineer',\n",
       " 'Software Engineer III',\n",
       " 'Community Outreach Specialist',\n",
       " 'Safety Technician IV',\n",
       " 'VP Accounting',\n",
       " 'General Manager',\n",
       " 'Nurse Practicioner',\n",
       " 'Automation Specialist II',\n",
       " 'Marketing Assistant',\n",
       " 'Marketing Manager',\n",
       " 'Staff Scientist',\n",
       " 'Assistant Professor',\n",
       " 'Budget/Accounting Analyst IV',\n",
       " 'Associate Professor',\n",
       " 'Graphic Designer',\n",
       " 'Administrative Assistant II',\n",
       " 'Compensation Analyst',\n",
       " 'Systems Administrator III',\n",
       " 'Financial Advisor',\n",
       " 'Chemical Engineer',\n",
       " 'Web Designer I',\n",
       " 'Senior Developer',\n",
       " 'Office Assistant II',\n",
       " 'Recruiter',\n",
       " 'Operator',\n",
       " 'Programmer Analyst III',\n",
       " 'Quality Engineer',\n",
       " 'Analog Circuit Design manager',\n",
       " 'Cost Accountant',\n",
       " 'Librarian',\n",
       " 'Structural Analysis Engineer',\n",
       " 'Pharmacist',\n",
       " 'Assistant Manager',\n",
       " 'Accountant I',\n",
       " 'Environmental Tech',\n",
       " 'Web Designer III',\n",
       " 'Geologist III',\n",
       " 'Software Test Engineer I',\n",
       " 'Structural Engineer',\n",
       " 'Safety Technician II',\n",
       " 'Web Developer III',\n",
       " 'Programmer Analyst II',\n",
       " 'Design Engineer',\n",
       " 'Statistician I',\n",
       " 'VP Marketing',\n",
       " 'Desktop Support Technician',\n",
       " 'Actuary',\n",
       " 'Database Administrator III',\n",
       " 'Electrical Engineer',\n",
       " 'Tax Accountant',\n",
       " 'Clinical Specialist',\n",
       " 'Database Administrator IV',\n",
       " 'Systems Administrator II',\n",
       " 'Account Coordinator',\n",
       " 'Programmer III',\n",
       " 'Administrative Assistant III',\n",
       " 'Nurse',\n",
       " 'Technical Writer',\n",
       " 'Staff Accountant II',\n",
       " 'Dental Hygienist',\n",
       " 'Sales Representative',\n",
       " 'Budget/Accounting Analyst III',\n",
       " 'Computer Systems Analyst IV',\n",
       " 'Geologist I',\n",
       " 'Financial Analyst',\n",
       " 'Accounting Assistant II',\n",
       " 'Database Administrator II',\n",
       " 'Engineer I',\n",
       " 'Budget/Accounting Analyst I',\n",
       " 'Developer IV',\n",
       " 'Database Administrator I',\n",
       " 'Environmental Specialist',\n",
       " 'Computer Systems Analyst I',\n",
       " 'Account Representative IV',\n",
       " 'Statistician IV',\n",
       " 'Human Resources Manager',\n",
       " 'GIS Technical Architect',\n",
       " 'Programmer IV',\n",
       " 'Senior Sales Associate',\n",
       " 'Accounting Assistant IV',\n",
       " 'Software Engineer IV',\n",
       " 'Programmer II',\n",
       " 'Engineer III',\n",
       " 'Software Consultant',\n",
       " 'Biostatistician IV',\n",
       " 'Help Desk Technician',\n",
       " 'Automation Specialist I',\n",
       " 'Developer III',\n",
       " 'Human Resources Assistant I',\n",
       " 'Geologist IV',\n",
       " 'Media Manager II',\n",
       " 'Statistician III',\n",
       " 'Engineer II',\n",
       " 'Health Coach II',\n",
       " 'Developer II',\n",
       " 'Systems Administrator I',\n",
       " 'Web Developer I',\n",
       " 'Software Engineer II',\n",
       " 'Accounting Assistant I',\n",
       " 'Research Assistant II',\n",
       " 'Programmer Analyst IV',\n",
       " 'Health Coach I',\n",
       " 'Accountant II',\n",
       " 'Automation Specialist III',\n",
       " 'Administrative Assistant I',\n",
       " 'Health Coach IV',\n",
       " 'Media Manager III',\n",
       " 'Account Representative III',\n",
       " 'Web Designer IV',\n",
       " 'Budget/Accounting Analyst II',\n",
       " 'Web Developer IV',\n",
       " 'Biostatistician III',\n",
       " 'Software Test Engineer IV',\n",
       " 'Research Assistant IV',\n",
       " 'Account Representative I',\n",
       " 'Accountant IV',\n",
       " 'Biostatistician I',\n",
       " 'Human Resources Assistant IV',\n",
       " 'Administrative Assistant IV',\n",
       " 'Programmer I',\n",
       " 'Office Assistant I',\n",
       " 'Human Resources Assistant II',\n",
       " 'Mechanical Systems Engineer',\n",
       " 'Engineer IV',\n",
       " 'Health Coach III',\n",
       " 'Office Assistant IV',\n",
       " 'Software Engineer I',\n",
       " 'Human Resources Assistant III',\n",
       " 'Staff Accountant I',\n",
       " 'Computer Systems Analyst III',\n",
       " 'Geologist II',\n",
       " 'Web Designer II',\n",
       " 'Staff Accountant IV',\n",
       " 'Account Representative II',\n",
       " 'Programmer Analyst I',\n",
       " 'Systems Administrator IV',\n",
       " 'Research Assistant III']"
      ]
     },
     "execution_count": 20,
     "metadata": {},
     "output_type": "execute_result"
    }
   ],
   "source": [
    "df_demographic.job_title.unique().tolist()"
   ]
  },
  {
   "cell_type": "code",
   "execution_count": 21,
   "metadata": {
    "scrolled": true
   },
   "outputs": [],
   "source": [
    "# Drop job title column, since there are lot of different classes and may not arrive to any conclusion\n",
    "df_demographic.drop(columns=['job_title'], inplace = True)"
   ]
  },
  {
   "cell_type": "code",
   "execution_count": 22,
   "metadata": {
    "scrolled": true
   },
   "outputs": [
    {
     "data": {
      "text/plain": [
       "['Health',\n",
       " 'Financial Services',\n",
       " 'Property',\n",
       " 'IT',\n",
       " nan,\n",
       " 'Retail',\n",
       " 'Argiculture',\n",
       " 'Manufacturing',\n",
       " 'Telecommunications',\n",
       " 'Entertainment']"
      ]
     },
     "execution_count": 22,
     "metadata": {},
     "output_type": "execute_result"
    }
   ],
   "source": [
    "df_demographic.job_industry_category.unique().tolist()"
   ]
  },
  {
   "cell_type": "code",
   "execution_count": 23,
   "metadata": {},
   "outputs": [],
   "source": [
    "# Fill missing values with a generic class\n",
    "df_demographic.job_industry_category.fillna(\"n/a\", inplace=True)\n",
    "\n",
    "# Replace typo\n",
    "df_demographic.job_industry_category = df_demographic.job_industry_category.replace(to_replace='Argiculture',\n",
    "                                                                                    value='Agriculture')"
   ]
  },
  {
   "cell_type": "markdown",
   "metadata": {},
   "source": [
    "_____________"
   ]
  },
  {
   "cell_type": "markdown",
   "metadata": {},
   "source": [
    "## CustomerAddress"
   ]
  },
  {
   "cell_type": "code",
   "execution_count": 24,
   "metadata": {},
   "outputs": [],
   "source": [
    "# Data importation\n",
    "df_address = pd.read_excel('KPMG_VI_New_raw_data_update_final.xlsx', sheet_name='CustomerAddress', skiprows=[0])"
   ]
  },
  {
   "cell_type": "code",
   "execution_count": 25,
   "metadata": {
    "scrolled": true
   },
   "outputs": [
    {
     "data": {
      "text/html": [
       "<div>\n",
       "<style scoped>\n",
       "    .dataframe tbody tr th:only-of-type {\n",
       "        vertical-align: middle;\n",
       "    }\n",
       "\n",
       "    .dataframe tbody tr th {\n",
       "        vertical-align: top;\n",
       "    }\n",
       "\n",
       "    .dataframe thead th {\n",
       "        text-align: right;\n",
       "    }\n",
       "</style>\n",
       "<table border=\"1\" class=\"dataframe\">\n",
       "  <thead>\n",
       "    <tr style=\"text-align: right;\">\n",
       "      <th></th>\n",
       "      <th>customer_id</th>\n",
       "      <th>address</th>\n",
       "      <th>postcode</th>\n",
       "      <th>state</th>\n",
       "      <th>country</th>\n",
       "      <th>property_valuation</th>\n",
       "    </tr>\n",
       "  </thead>\n",
       "  <tbody>\n",
       "    <tr>\n",
       "      <th>0</th>\n",
       "      <td>1</td>\n",
       "      <td>060 Morning Avenue</td>\n",
       "      <td>2016</td>\n",
       "      <td>New South Wales</td>\n",
       "      <td>Australia</td>\n",
       "      <td>10</td>\n",
       "    </tr>\n",
       "    <tr>\n",
       "      <th>1</th>\n",
       "      <td>2</td>\n",
       "      <td>6 Meadow Vale Court</td>\n",
       "      <td>2153</td>\n",
       "      <td>New South Wales</td>\n",
       "      <td>Australia</td>\n",
       "      <td>10</td>\n",
       "    </tr>\n",
       "    <tr>\n",
       "      <th>2</th>\n",
       "      <td>4</td>\n",
       "      <td>0 Holy Cross Court</td>\n",
       "      <td>4211</td>\n",
       "      <td>QLD</td>\n",
       "      <td>Australia</td>\n",
       "      <td>9</td>\n",
       "    </tr>\n",
       "    <tr>\n",
       "      <th>3</th>\n",
       "      <td>5</td>\n",
       "      <td>17979 Del Mar Point</td>\n",
       "      <td>2448</td>\n",
       "      <td>New South Wales</td>\n",
       "      <td>Australia</td>\n",
       "      <td>4</td>\n",
       "    </tr>\n",
       "    <tr>\n",
       "      <th>4</th>\n",
       "      <td>6</td>\n",
       "      <td>9 Oakridge Court</td>\n",
       "      <td>3216</td>\n",
       "      <td>VIC</td>\n",
       "      <td>Australia</td>\n",
       "      <td>9</td>\n",
       "    </tr>\n",
       "    <tr>\n",
       "      <th>...</th>\n",
       "      <td>...</td>\n",
       "      <td>...</td>\n",
       "      <td>...</td>\n",
       "      <td>...</td>\n",
       "      <td>...</td>\n",
       "      <td>...</td>\n",
       "    </tr>\n",
       "    <tr>\n",
       "      <th>3994</th>\n",
       "      <td>3999</td>\n",
       "      <td>1482 Hauk Trail</td>\n",
       "      <td>3064</td>\n",
       "      <td>VIC</td>\n",
       "      <td>Australia</td>\n",
       "      <td>3</td>\n",
       "    </tr>\n",
       "    <tr>\n",
       "      <th>3995</th>\n",
       "      <td>4000</td>\n",
       "      <td>57042 Village Green Point</td>\n",
       "      <td>4511</td>\n",
       "      <td>QLD</td>\n",
       "      <td>Australia</td>\n",
       "      <td>6</td>\n",
       "    </tr>\n",
       "    <tr>\n",
       "      <th>3996</th>\n",
       "      <td>4001</td>\n",
       "      <td>87 Crescent Oaks Alley</td>\n",
       "      <td>2756</td>\n",
       "      <td>NSW</td>\n",
       "      <td>Australia</td>\n",
       "      <td>10</td>\n",
       "    </tr>\n",
       "    <tr>\n",
       "      <th>3997</th>\n",
       "      <td>4002</td>\n",
       "      <td>8194 Lien Street</td>\n",
       "      <td>4032</td>\n",
       "      <td>QLD</td>\n",
       "      <td>Australia</td>\n",
       "      <td>7</td>\n",
       "    </tr>\n",
       "    <tr>\n",
       "      <th>3998</th>\n",
       "      <td>4003</td>\n",
       "      <td>320 Acker Drive</td>\n",
       "      <td>2251</td>\n",
       "      <td>NSW</td>\n",
       "      <td>Australia</td>\n",
       "      <td>7</td>\n",
       "    </tr>\n",
       "  </tbody>\n",
       "</table>\n",
       "<p>3999 rows × 6 columns</p>\n",
       "</div>"
      ],
      "text/plain": [
       "      customer_id                    address  postcode            state  \\\n",
       "0               1         060 Morning Avenue      2016  New South Wales   \n",
       "1               2        6 Meadow Vale Court      2153  New South Wales   \n",
       "2               4         0 Holy Cross Court      4211              QLD   \n",
       "3               5        17979 Del Mar Point      2448  New South Wales   \n",
       "4               6           9 Oakridge Court      3216              VIC   \n",
       "...           ...                        ...       ...              ...   \n",
       "3994         3999            1482 Hauk Trail      3064              VIC   \n",
       "3995         4000  57042 Village Green Point      4511              QLD   \n",
       "3996         4001     87 Crescent Oaks Alley      2756              NSW   \n",
       "3997         4002           8194 Lien Street      4032              QLD   \n",
       "3998         4003            320 Acker Drive      2251              NSW   \n",
       "\n",
       "        country  property_valuation  \n",
       "0     Australia                  10  \n",
       "1     Australia                  10  \n",
       "2     Australia                   9  \n",
       "3     Australia                   4  \n",
       "4     Australia                   9  \n",
       "...         ...                 ...  \n",
       "3994  Australia                   3  \n",
       "3995  Australia                   6  \n",
       "3996  Australia                  10  \n",
       "3997  Australia                   7  \n",
       "3998  Australia                   7  \n",
       "\n",
       "[3999 rows x 6 columns]"
      ]
     },
     "execution_count": 25,
     "metadata": {},
     "output_type": "execute_result"
    }
   ],
   "source": [
    "# Overview\n",
    "df_address"
   ]
  },
  {
   "cell_type": "code",
   "execution_count": 26,
   "metadata": {
    "scrolled": false
   },
   "outputs": [
    {
     "name": "stdout",
     "output_type": "stream",
     "text": [
      "<class 'pandas.core.frame.DataFrame'>\n",
      "RangeIndex: 3999 entries, 0 to 3998\n",
      "Data columns (total 6 columns):\n",
      " #   Column              Non-Null Count  Dtype \n",
      "---  ------              --------------  ----- \n",
      " 0   customer_id         3999 non-null   int64 \n",
      " 1   address             3999 non-null   object\n",
      " 2   postcode            3999 non-null   int64 \n",
      " 3   state               3999 non-null   object\n",
      " 4   country             3999 non-null   object\n",
      " 5   property_valuation  3999 non-null   int64 \n",
      "dtypes: int64(3), object(3)\n",
      "memory usage: 879.0 KB\n"
     ]
    }
   ],
   "source": [
    "# Missing values + memory usage + data type\n",
    "df_address.info(memory_usage='deep')"
   ]
  },
  {
   "cell_type": "markdown",
   "metadata": {},
   "source": [
    "##### Customer id: duplicated values, removed customers"
   ]
  },
  {
   "cell_type": "code",
   "execution_count": 27,
   "metadata": {
    "scrolled": true
   },
   "outputs": [
    {
     "name": "stdout",
     "output_type": "stream",
     "text": [
      "Duplicated values: 0\n",
      "Removed customers: 4.0\n",
      "Range: 1 to 4003\n"
     ]
    }
   ],
   "source": [
    "# Duplicated values\n",
    "print('Duplicated values:', df_address.customer_id.duplicated().sum())\n",
    "\n",
    "# Are all customer in order or are any of them removed?\n",
    "print('Removed customers:', (df_address.customer_id.diff()-1).sum())\n",
    "\n",
    "# Range\n",
    "print('Range:', df_address.customer_id.min(), 'to', df_address.customer_id.max())"
   ]
  },
  {
   "cell_type": "markdown",
   "metadata": {},
   "source": [
    "##### Address differentiation or drop (it probably do not interfere on the analysis)"
   ]
  },
  {
   "cell_type": "code",
   "execution_count": 28,
   "metadata": {
    "scrolled": true
   },
   "outputs": [],
   "source": [
    "# # Address type of road, street, avenue...\n",
    "# df_address['addr_type'] = df_address.address.apply(lambda x: x.split()[-1])\n",
    "# df_address.addr_type.unique()"
   ]
  },
  {
   "cell_type": "code",
   "execution_count": 29,
   "metadata": {},
   "outputs": [],
   "source": [
    "# # Address street number or apartment number\n",
    "# df_address['addr_number'] = df_address.address.apply(lambda x: x.split()[0])\n",
    "\n",
    "# # Uncomment to watch a complete list of all the numbers and check if they are all numbers\n",
    "# # df_address.addr_number.unique().tolist()"
   ]
  },
  {
   "cell_type": "code",
   "execution_count": 30,
   "metadata": {},
   "outputs": [],
   "source": [
    "# # Address name\n",
    "# df_address['addr_name'] = df_address.address.apply(lambda x: \" \".join(x.split()[1:-1]))"
   ]
  },
  {
   "cell_type": "code",
   "execution_count": 31,
   "metadata": {
    "scrolled": false
   },
   "outputs": [],
   "source": [
    "# Drop previous address column\n",
    "df_address.drop(columns=['address'], inplace = True)"
   ]
  },
  {
   "cell_type": "markdown",
   "metadata": {},
   "source": [
    "##### Postcode range and values"
   ]
  },
  {
   "cell_type": "code",
   "execution_count": 32,
   "metadata": {
    "scrolled": true
   },
   "outputs": [
    {
     "name": "stdout",
     "output_type": "stream",
     "text": [
      "Postcode range from 2000 to 4883\n"
     ]
    }
   ],
   "source": [
    "# Postcode range \n",
    "print('Postcode range from', df_address.postcode.min(), 'to', df_address.postcode.max())"
   ]
  },
  {
   "cell_type": "code",
   "execution_count": 33,
   "metadata": {
    "scrolled": true
   },
   "outputs": [
    {
     "data": {
      "text/plain": [
       "2170    31\n",
       "2155    30\n",
       "2145    30\n",
       "2153    29\n",
       "2770    26\n",
       "        ..\n",
       "4552     1\n",
       "4555     1\n",
       "2485     1\n",
       "3580     1\n",
       "4421     1\n",
       "Name: postcode, Length: 873, dtype: int64"
      ]
     },
     "execution_count": 33,
     "metadata": {},
     "output_type": "execute_result"
    }
   ],
   "source": [
    "# Look at the counts of each unique value\n",
    "df_address.postcode.value_counts()"
   ]
  },
  {
   "cell_type": "code",
   "execution_count": 34,
   "metadata": {},
   "outputs": [],
   "source": [
    "# For a deeper analysis on specific region, postcode could be used. However, since there is a state feature, the analysis would\n",
    "# be more comprehensible and easy using that feature instead of postcode.\n",
    "df_address.drop(columns='postcode', inplace=True)"
   ]
  },
  {
   "cell_type": "markdown",
   "metadata": {},
   "source": [
    "##### State classes"
   ]
  },
  {
   "cell_type": "code",
   "execution_count": 35,
   "metadata": {
    "scrolled": true
   },
   "outputs": [
    {
     "data": {
      "text/plain": [
       "array(['New South Wales', 'QLD', 'VIC', 'NSW', 'Victoria'], dtype=object)"
      ]
     },
     "execution_count": 35,
     "metadata": {},
     "output_type": "execute_result"
    }
   ],
   "source": [
    "# Is there any error or typo in Australia states?\n",
    "df_address.state.unique()"
   ]
  },
  {
   "cell_type": "code",
   "execution_count": 36,
   "metadata": {},
   "outputs": [],
   "source": [
    "# Replaces typos\n",
    "df_address.state = df_address.state.replace(to_replace='Victoria', value='VIC')\n",
    "df_address.state = df_address.state.replace(to_replace='New South Wales', value='NSW')"
   ]
  },
  {
   "cell_type": "markdown",
   "metadata": {},
   "source": [
    "##### Country classes"
   ]
  },
  {
   "cell_type": "code",
   "execution_count": 37,
   "metadata": {},
   "outputs": [
    {
     "data": {
      "text/plain": [
       "array(['Australia'], dtype=object)"
      ]
     },
     "execution_count": 37,
     "metadata": {},
     "output_type": "execute_result"
    }
   ],
   "source": [
    "# How many countries are there? Is there any error?\n",
    "df_address.country.unique()"
   ]
  },
  {
   "cell_type": "code",
   "execution_count": 38,
   "metadata": {},
   "outputs": [],
   "source": [
    "# Since only exist Australia it do not add value to the analysis\n",
    "df_address.drop(columns='country', inplace=True)"
   ]
  },
  {
   "cell_type": "markdown",
   "metadata": {},
   "source": [
    "___________"
   ]
  },
  {
   "cell_type": "markdown",
   "metadata": {},
   "source": [
    "## Merge tables with inner join"
   ]
  },
  {
   "cell_type": "code",
   "execution_count": 39,
   "metadata": {},
   "outputs": [],
   "source": [
    "customer_list = pd.merge(df_demographic,df_address,on='customer_id')"
   ]
  },
  {
   "cell_type": "markdown",
   "metadata": {},
   "source": [
    "##### Wealth segment relation with property valuation"
   ]
  },
  {
   "cell_type": "code",
   "execution_count": 40,
   "metadata": {
    "scrolled": true
   },
   "outputs": [
    {
     "data": {
      "text/plain": [
       "<matplotlib.axes._subplots.AxesSubplot at 0x20a6e993a60>"
      ]
     },
     "execution_count": 40,
     "metadata": {},
     "output_type": "execute_result"
    },
    {
     "data": {
      "image/png": "[encoded data removed]",
      "text/plain": [
       "<Figure size 1080x216 with 1 Axes>"
      ]
     },
     "metadata": {
      "needs_background": "light"
     },
     "output_type": "display_data"
    }
   ],
   "source": [
    "# Tenure countplot according the different wealth segments\n",
    "import seaborn as sns\n",
    "plt.figure(figsize=(15,3))\n",
    "sns.countplot(data=customer_list, x='property_valuation', hue='wealth_segment')"
   ]
  },
  {
   "cell_type": "markdown",
   "metadata": {},
   "source": [
    "________"
   ]
  },
  {
   "cell_type": "markdown",
   "metadata": {},
   "source": [
    "## Transactions"
   ]
  },
  {
   "cell_type": "code",
   "execution_count": 41,
   "metadata": {},
   "outputs": [],
   "source": [
    "# Import data\n",
    "df_transactions = pd.read_excel('KPMG_VI_New_raw_data_update_final.xlsx', sheet_name='Transactions', skiprows=[0])"
   ]
  },
  {
   "cell_type": "code",
   "execution_count": 42,
   "metadata": {
    "scrolled": false
   },
   "outputs": [
    {
     "data": {
      "text/html": [
       "<div>\n",
       "<style scoped>\n",
       "    .dataframe tbody tr th:only-of-type {\n",
       "        vertical-align: middle;\n",
       "    }\n",
       "\n",
       "    .dataframe tbody tr th {\n",
       "        vertical-align: top;\n",
       "    }\n",
       "\n",
       "    .dataframe thead th {\n",
       "        text-align: right;\n",
       "    }\n",
       "</style>\n",
       "<table border=\"1\" class=\"dataframe\">\n",
       "  <thead>\n",
       "    <tr style=\"text-align: right;\">\n",
       "      <th></th>\n",
       "      <th>transaction_id</th>\n",
       "      <th>product_id</th>\n",
       "      <th>customer_id</th>\n",
       "      <th>transaction_date</th>\n",
       "      <th>online_order</th>\n",
       "      <th>order_status</th>\n",
       "      <th>brand</th>\n",
       "      <th>product_line</th>\n",
       "      <th>product_class</th>\n",
       "      <th>product_size</th>\n",
       "      <th>list_price</th>\n",
       "      <th>standard_cost</th>\n",
       "      <th>product_first_sold_date</th>\n",
       "    </tr>\n",
       "  </thead>\n",
       "  <tbody>\n",
       "    <tr>\n",
       "      <th>0</th>\n",
       "      <td>1</td>\n",
       "      <td>2</td>\n",
       "      <td>2950</td>\n",
       "      <td>2017-02-25</td>\n",
       "      <td>0.0</td>\n",
       "      <td>Approved</td>\n",
       "      <td>Solex</td>\n",
       "      <td>Standard</td>\n",
       "      <td>medium</td>\n",
       "      <td>medium</td>\n",
       "      <td>71.49</td>\n",
       "      <td>53.62</td>\n",
       "      <td>41245.0</td>\n",
       "    </tr>\n",
       "    <tr>\n",
       "      <th>1</th>\n",
       "      <td>2</td>\n",
       "      <td>3</td>\n",
       "      <td>3120</td>\n",
       "      <td>2017-05-21</td>\n",
       "      <td>1.0</td>\n",
       "      <td>Approved</td>\n",
       "      <td>Trek Bicycles</td>\n",
       "      <td>Standard</td>\n",
       "      <td>medium</td>\n",
       "      <td>large</td>\n",
       "      <td>2091.47</td>\n",
       "      <td>388.92</td>\n",
       "      <td>41701.0</td>\n",
       "    </tr>\n",
       "    <tr>\n",
       "      <th>2</th>\n",
       "      <td>3</td>\n",
       "      <td>37</td>\n",
       "      <td>402</td>\n",
       "      <td>2017-10-16</td>\n",
       "      <td>0.0</td>\n",
       "      <td>Approved</td>\n",
       "      <td>OHM Cycles</td>\n",
       "      <td>Standard</td>\n",
       "      <td>low</td>\n",
       "      <td>medium</td>\n",
       "      <td>1793.43</td>\n",
       "      <td>248.82</td>\n",
       "      <td>36361.0</td>\n",
       "    </tr>\n",
       "    <tr>\n",
       "      <th>3</th>\n",
       "      <td>4</td>\n",
       "      <td>88</td>\n",
       "      <td>3135</td>\n",
       "      <td>2017-08-31</td>\n",
       "      <td>0.0</td>\n",
       "      <td>Approved</td>\n",
       "      <td>Norco Bicycles</td>\n",
       "      <td>Standard</td>\n",
       "      <td>medium</td>\n",
       "      <td>medium</td>\n",
       "      <td>1198.46</td>\n",
       "      <td>381.10</td>\n",
       "      <td>36145.0</td>\n",
       "    </tr>\n",
       "    <tr>\n",
       "      <th>4</th>\n",
       "      <td>5</td>\n",
       "      <td>78</td>\n",
       "      <td>787</td>\n",
       "      <td>2017-10-01</td>\n",
       "      <td>1.0</td>\n",
       "      <td>Approved</td>\n",
       "      <td>Giant Bicycles</td>\n",
       "      <td>Standard</td>\n",
       "      <td>medium</td>\n",
       "      <td>large</td>\n",
       "      <td>1765.30</td>\n",
       "      <td>709.48</td>\n",
       "      <td>42226.0</td>\n",
       "    </tr>\n",
       "    <tr>\n",
       "      <th>...</th>\n",
       "      <td>...</td>\n",
       "      <td>...</td>\n",
       "      <td>...</td>\n",
       "      <td>...</td>\n",
       "      <td>...</td>\n",
       "      <td>...</td>\n",
       "      <td>...</td>\n",
       "      <td>...</td>\n",
       "      <td>...</td>\n",
       "      <td>...</td>\n",
       "      <td>...</td>\n",
       "      <td>...</td>\n",
       "      <td>...</td>\n",
       "    </tr>\n",
       "    <tr>\n",
       "      <th>19995</th>\n",
       "      <td>19996</td>\n",
       "      <td>51</td>\n",
       "      <td>1018</td>\n",
       "      <td>2017-06-24</td>\n",
       "      <td>1.0</td>\n",
       "      <td>Approved</td>\n",
       "      <td>OHM Cycles</td>\n",
       "      <td>Standard</td>\n",
       "      <td>high</td>\n",
       "      <td>medium</td>\n",
       "      <td>2005.66</td>\n",
       "      <td>1203.40</td>\n",
       "      <td>37823.0</td>\n",
       "    </tr>\n",
       "    <tr>\n",
       "      <th>19996</th>\n",
       "      <td>19997</td>\n",
       "      <td>41</td>\n",
       "      <td>127</td>\n",
       "      <td>2017-11-09</td>\n",
       "      <td>1.0</td>\n",
       "      <td>Approved</td>\n",
       "      <td>Solex</td>\n",
       "      <td>Road</td>\n",
       "      <td>medium</td>\n",
       "      <td>medium</td>\n",
       "      <td>416.98</td>\n",
       "      <td>312.74</td>\n",
       "      <td>35560.0</td>\n",
       "    </tr>\n",
       "    <tr>\n",
       "      <th>19997</th>\n",
       "      <td>19998</td>\n",
       "      <td>87</td>\n",
       "      <td>2284</td>\n",
       "      <td>2017-04-14</td>\n",
       "      <td>1.0</td>\n",
       "      <td>Approved</td>\n",
       "      <td>OHM Cycles</td>\n",
       "      <td>Standard</td>\n",
       "      <td>medium</td>\n",
       "      <td>medium</td>\n",
       "      <td>1636.90</td>\n",
       "      <td>44.71</td>\n",
       "      <td>40410.0</td>\n",
       "    </tr>\n",
       "    <tr>\n",
       "      <th>19998</th>\n",
       "      <td>19999</td>\n",
       "      <td>6</td>\n",
       "      <td>2764</td>\n",
       "      <td>2017-07-03</td>\n",
       "      <td>0.0</td>\n",
       "      <td>Approved</td>\n",
       "      <td>OHM Cycles</td>\n",
       "      <td>Standard</td>\n",
       "      <td>high</td>\n",
       "      <td>medium</td>\n",
       "      <td>227.88</td>\n",
       "      <td>136.73</td>\n",
       "      <td>38216.0</td>\n",
       "    </tr>\n",
       "    <tr>\n",
       "      <th>19999</th>\n",
       "      <td>20000</td>\n",
       "      <td>11</td>\n",
       "      <td>1144</td>\n",
       "      <td>2017-09-22</td>\n",
       "      <td>1.0</td>\n",
       "      <td>Approved</td>\n",
       "      <td>Trek Bicycles</td>\n",
       "      <td>Standard</td>\n",
       "      <td>medium</td>\n",
       "      <td>small</td>\n",
       "      <td>1775.81</td>\n",
       "      <td>1580.47</td>\n",
       "      <td>36334.0</td>\n",
       "    </tr>\n",
       "  </tbody>\n",
       "</table>\n",
       "<p>20000 rows × 13 columns</p>\n",
       "</div>"
      ],
      "text/plain": [
       "       transaction_id  product_id  customer_id transaction_date  online_order  \\\n",
       "0                   1           2         2950       2017-02-25           0.0   \n",
       "1                   2           3         3120       2017-05-21           1.0   \n",
       "2                   3          37          402       2017-10-16           0.0   \n",
       "3                   4          88         3135       2017-08-31           0.0   \n",
       "4                   5          78          787       2017-10-01           1.0   \n",
       "...               ...         ...          ...              ...           ...   \n",
       "19995           19996          51         1018       2017-06-24           1.0   \n",
       "19996           19997          41          127       2017-11-09           1.0   \n",
       "19997           19998          87         2284       2017-04-14           1.0   \n",
       "19998           19999           6         2764       2017-07-03           0.0   \n",
       "19999           20000          11         1144       2017-09-22           1.0   \n",
       "\n",
       "      order_status           brand product_line product_class product_size  \\\n",
       "0         Approved           Solex     Standard        medium       medium   \n",
       "1         Approved   Trek Bicycles     Standard        medium        large   \n",
       "2         Approved      OHM Cycles     Standard           low       medium   \n",
       "3         Approved  Norco Bicycles     Standard        medium       medium   \n",
       "4         Approved  Giant Bicycles     Standard        medium        large   \n",
       "...            ...             ...          ...           ...          ...   \n",
       "19995     Approved      OHM Cycles     Standard          high       medium   \n",
       "19996     Approved           Solex         Road        medium       medium   \n",
       "19997     Approved      OHM Cycles     Standard        medium       medium   \n",
       "19998     Approved      OHM Cycles     Standard          high       medium   \n",
       "19999     Approved   Trek Bicycles     Standard        medium        small   \n",
       "\n",
       "       list_price  standard_cost  product_first_sold_date  \n",
       "0           71.49          53.62                  41245.0  \n",
       "1         2091.47         388.92                  41701.0  \n",
       "2         1793.43         248.82                  36361.0  \n",
       "3         1198.46         381.10                  36145.0  \n",
       "4         1765.30         709.48                  42226.0  \n",
       "...           ...            ...                      ...  \n",
       "19995     2005.66        1203.40                  37823.0  \n",
       "19996      416.98         312.74                  35560.0  \n",
       "19997     1636.90          44.71                  40410.0  \n",
       "19998      227.88         136.73                  38216.0  \n",
       "19999     1775.81        1580.47                  36334.0  \n",
       "\n",
       "[20000 rows x 13 columns]"
      ]
     },
     "execution_count": 42,
     "metadata": {},
     "output_type": "execute_result"
    }
   ],
   "source": [
    "# Overview\n",
    "df_transactions"
   ]
  },
  {
   "cell_type": "markdown",
   "metadata": {},
   "source": [
    "##### Customer id filtering"
   ]
  },
  {
   "cell_type": "code",
   "execution_count": 43,
   "metadata": {},
   "outputs": [],
   "source": [
    "# Removed transactions done by customers that are not in the registered in the master table\n",
    "df_transactions = df_transactions.merge(customer_list.customer_id, on='customer_id')\n",
    "# Order by transaction id\n",
    "df_transactions = df_transactions.sort_values('transaction_id')\n",
    "# Reset indexes\n",
    "df_transactions.reset_index(drop=True, inplace=True)"
   ]
  },
  {
   "cell_type": "code",
   "execution_count": 44,
   "metadata": {
    "scrolled": false
   },
   "outputs": [
    {
     "name": "stdout",
     "output_type": "stream",
     "text": [
      "<class 'pandas.core.frame.DataFrame'>\n",
      "RangeIndex: 19513 entries, 0 to 19512\n",
      "Data columns (total 13 columns):\n",
      " #   Column                   Non-Null Count  Dtype         \n",
      "---  ------                   --------------  -----         \n",
      " 0   transaction_id           19513 non-null  int64         \n",
      " 1   product_id               19513 non-null  int64         \n",
      " 2   customer_id              19513 non-null  int64         \n",
      " 3   transaction_date         19513 non-null  datetime64[ns]\n",
      " 4   online_order             19162 non-null  float64       \n",
      " 5   order_status             19513 non-null  object        \n",
      " 6   brand                    19327 non-null  object        \n",
      " 7   product_line             19327 non-null  object        \n",
      " 8   product_class            19327 non-null  object        \n",
      " 9   product_size             19327 non-null  object        \n",
      " 10  list_price               19513 non-null  float64       \n",
      " 11  standard_cost            19327 non-null  float64       \n",
      " 12  product_first_sold_date  19327 non-null  float64       \n",
      "dtypes: datetime64[ns](1), float64(4), int64(3), object(5)\n",
      "memory usage: 7.1 MB\n"
     ]
    }
   ],
   "source": [
    "# Missing values + memory usage + data type\n",
    "df_transactions.info(memory_usage='deep')"
   ]
  },
  {
   "cell_type": "markdown",
   "metadata": {},
   "source": [
    "##### Transaction id: duplicated values"
   ]
  },
  {
   "cell_type": "code",
   "execution_count": 45,
   "metadata": {
    "scrolled": false
   },
   "outputs": [
    {
     "name": "stdout",
     "output_type": "stream",
     "text": [
      "Duplicated values: 0\n"
     ]
    }
   ],
   "source": [
    "# Duplicated values\n",
    "print('Duplicated values:', df_transactions.transaction_id.duplicated().sum())"
   ]
  },
  {
   "cell_type": "markdown",
   "metadata": {},
   "source": [
    "##### Are the same missing values in brand, product line, class and size, standard cost and product first sold date?"
   ]
  },
  {
   "cell_type": "code",
   "execution_count": 46,
   "metadata": {
    "scrolled": true
   },
   "outputs": [
    {
     "data": {
      "text/plain": [
       "brand                      True\n",
       "product_line               True\n",
       "product_class              True\n",
       "product_size               True\n",
       "standard_cost              True\n",
       "product_first_sold_date    True\n",
       "dtype: bool"
      ]
     },
     "execution_count": 46,
     "metadata": {},
     "output_type": "execute_result"
    }
   ],
   "source": [
    "# Auxiliar list to contain all the columns\n",
    "aux_list = ['brand', 'product_line', 'product_class', 'product_size', 'standard_cost', 'product_first_sold_date']\n",
    "# Visualize nans in brand for all these features\n",
    "df_transactions.loc[df_transactions.brand.isna(), aux_list].isna().all()"
   ]
  },
  {
   "cell_type": "code",
   "execution_count": 47,
   "metadata": {
    "scrolled": true
   },
   "outputs": [
    {
     "name": "stdout",
     "output_type": "stream",
     "text": [
      "BRAND\n",
      "['Solex' 'Trek Bicycles' 'OHM Cycles' 'Norco Bicycles' 'Giant Bicycles'\n",
      " 'WeareA2B' nan] \n",
      "\n",
      "PRODUCT_LINE\n",
      "['Standard' 'Road' 'Mountain' 'Touring' nan] \n",
      "\n",
      "PRODUCT_CLASS\n",
      "['medium' 'low' 'high' nan] \n",
      "\n",
      "PRODUCT_SIZE\n",
      "['medium' 'large' 'small' nan] \n",
      "\n"
     ]
    }
   ],
   "source": [
    "# Classes of categorical features\n",
    "for cat in aux_list[0:4]:\n",
    "    print(cat.upper())\n",
    "    print(df_transactions[cat].unique(),'\\n')"
   ]
  },
  {
   "cell_type": "markdown",
   "metadata": {},
   "source": [
    "##### Can the missing values be filled through the product id? "
   ]
  },
  {
   "cell_type": "code",
   "execution_count": 48,
   "metadata": {
    "scrolled": true
   },
   "outputs": [
    {
     "data": {
      "text/html": [
       "<div>\n",
       "<style scoped>\n",
       "    .dataframe tbody tr th:only-of-type {\n",
       "        vertical-align: middle;\n",
       "    }\n",
       "\n",
       "    .dataframe tbody tr th {\n",
       "        vertical-align: top;\n",
       "    }\n",
       "\n",
       "    .dataframe thead th {\n",
       "        text-align: right;\n",
       "    }\n",
       "</style>\n",
       "<table border=\"1\" class=\"dataframe\">\n",
       "  <thead>\n",
       "    <tr style=\"text-align: right;\">\n",
       "      <th></th>\n",
       "      <th>product_id</th>\n",
       "      <th>brand</th>\n",
       "      <th>product_line</th>\n",
       "      <th>product_class</th>\n",
       "      <th>product_size</th>\n",
       "      <th>standard_cost</th>\n",
       "      <th>product_first_sold_date</th>\n",
       "    </tr>\n",
       "  </thead>\n",
       "  <tbody>\n",
       "    <tr>\n",
       "      <th>131</th>\n",
       "      <td>0</td>\n",
       "      <td>NaN</td>\n",
       "      <td>NaN</td>\n",
       "      <td>NaN</td>\n",
       "      <td>NaN</td>\n",
       "      <td>NaN</td>\n",
       "      <td>NaN</td>\n",
       "    </tr>\n",
       "    <tr>\n",
       "      <th>154</th>\n",
       "      <td>0</td>\n",
       "      <td>NaN</td>\n",
       "      <td>NaN</td>\n",
       "      <td>NaN</td>\n",
       "      <td>NaN</td>\n",
       "      <td>NaN</td>\n",
       "      <td>NaN</td>\n",
       "    </tr>\n",
       "    <tr>\n",
       "      <th>354</th>\n",
       "      <td>0</td>\n",
       "      <td>NaN</td>\n",
       "      <td>NaN</td>\n",
       "      <td>NaN</td>\n",
       "      <td>NaN</td>\n",
       "      <td>NaN</td>\n",
       "      <td>NaN</td>\n",
       "    </tr>\n",
       "    <tr>\n",
       "      <th>392</th>\n",
       "      <td>0</td>\n",
       "      <td>NaN</td>\n",
       "      <td>NaN</td>\n",
       "      <td>NaN</td>\n",
       "      <td>NaN</td>\n",
       "      <td>NaN</td>\n",
       "      <td>NaN</td>\n",
       "    </tr>\n",
       "    <tr>\n",
       "      <th>659</th>\n",
       "      <td>0</td>\n",
       "      <td>NaN</td>\n",
       "      <td>NaN</td>\n",
       "      <td>NaN</td>\n",
       "      <td>NaN</td>\n",
       "      <td>NaN</td>\n",
       "      <td>NaN</td>\n",
       "    </tr>\n",
       "    <tr>\n",
       "      <th>...</th>\n",
       "      <td>...</td>\n",
       "      <td>...</td>\n",
       "      <td>...</td>\n",
       "      <td>...</td>\n",
       "      <td>...</td>\n",
       "      <td>...</td>\n",
       "      <td>...</td>\n",
       "    </tr>\n",
       "    <tr>\n",
       "      <th>18867</th>\n",
       "      <td>0</td>\n",
       "      <td>NaN</td>\n",
       "      <td>NaN</td>\n",
       "      <td>NaN</td>\n",
       "      <td>NaN</td>\n",
       "      <td>NaN</td>\n",
       "      <td>NaN</td>\n",
       "    </tr>\n",
       "    <tr>\n",
       "      <th>18909</th>\n",
       "      <td>0</td>\n",
       "      <td>NaN</td>\n",
       "      <td>NaN</td>\n",
       "      <td>NaN</td>\n",
       "      <td>NaN</td>\n",
       "      <td>NaN</td>\n",
       "      <td>NaN</td>\n",
       "    </tr>\n",
       "    <tr>\n",
       "      <th>19308</th>\n",
       "      <td>0</td>\n",
       "      <td>NaN</td>\n",
       "      <td>NaN</td>\n",
       "      <td>NaN</td>\n",
       "      <td>NaN</td>\n",
       "      <td>NaN</td>\n",
       "      <td>NaN</td>\n",
       "    </tr>\n",
       "    <tr>\n",
       "      <th>19372</th>\n",
       "      <td>0</td>\n",
       "      <td>NaN</td>\n",
       "      <td>NaN</td>\n",
       "      <td>NaN</td>\n",
       "      <td>NaN</td>\n",
       "      <td>NaN</td>\n",
       "      <td>NaN</td>\n",
       "    </tr>\n",
       "    <tr>\n",
       "      <th>19384</th>\n",
       "      <td>0</td>\n",
       "      <td>NaN</td>\n",
       "      <td>NaN</td>\n",
       "      <td>NaN</td>\n",
       "      <td>NaN</td>\n",
       "      <td>NaN</td>\n",
       "      <td>NaN</td>\n",
       "    </tr>\n",
       "  </tbody>\n",
       "</table>\n",
       "<p>186 rows × 7 columns</p>\n",
       "</div>"
      ],
      "text/plain": [
       "       product_id brand product_line product_class product_size  \\\n",
       "131             0   NaN          NaN           NaN          NaN   \n",
       "154             0   NaN          NaN           NaN          NaN   \n",
       "354             0   NaN          NaN           NaN          NaN   \n",
       "392             0   NaN          NaN           NaN          NaN   \n",
       "659             0   NaN          NaN           NaN          NaN   \n",
       "...           ...   ...          ...           ...          ...   \n",
       "18867           0   NaN          NaN           NaN          NaN   \n",
       "18909           0   NaN          NaN           NaN          NaN   \n",
       "19308           0   NaN          NaN           NaN          NaN   \n",
       "19372           0   NaN          NaN           NaN          NaN   \n",
       "19384           0   NaN          NaN           NaN          NaN   \n",
       "\n",
       "       standard_cost  product_first_sold_date  \n",
       "131              NaN                      NaN  \n",
       "154              NaN                      NaN  \n",
       "354              NaN                      NaN  \n",
       "392              NaN                      NaN  \n",
       "659              NaN                      NaN  \n",
       "...              ...                      ...  \n",
       "18867            NaN                      NaN  \n",
       "18909            NaN                      NaN  \n",
       "19308            NaN                      NaN  \n",
       "19372            NaN                      NaN  \n",
       "19384            NaN                      NaN  \n",
       "\n",
       "[186 rows x 7 columns]"
      ]
     },
     "execution_count": 48,
     "metadata": {},
     "output_type": "execute_result"
    }
   ],
   "source": [
    "# Visualize nans with product id\n",
    "df_transactions.loc[df_transactions.brand.isna(), ['product_id']+aux_list]"
   ]
  },
  {
   "cell_type": "code",
   "execution_count": 49,
   "metadata": {
    "scrolled": false
   },
   "outputs": [
    {
     "data": {
      "text/html": [
       "<div>\n",
       "<style scoped>\n",
       "    .dataframe tbody tr th:only-of-type {\n",
       "        vertical-align: middle;\n",
       "    }\n",
       "\n",
       "    .dataframe tbody tr th {\n",
       "        vertical-align: top;\n",
       "    }\n",
       "\n",
       "    .dataframe thead th {\n",
       "        text-align: right;\n",
       "    }\n",
       "</style>\n",
       "<table border=\"1\" class=\"dataframe\">\n",
       "  <thead>\n",
       "    <tr style=\"text-align: right;\">\n",
       "      <th></th>\n",
       "      <th>transaction_id</th>\n",
       "      <th>product_id</th>\n",
       "      <th>customer_id</th>\n",
       "      <th>transaction_date</th>\n",
       "      <th>online_order</th>\n",
       "      <th>order_status</th>\n",
       "      <th>brand</th>\n",
       "      <th>product_line</th>\n",
       "      <th>product_class</th>\n",
       "      <th>product_size</th>\n",
       "      <th>list_price</th>\n",
       "      <th>standard_cost</th>\n",
       "      <th>product_first_sold_date</th>\n",
       "    </tr>\n",
       "  </thead>\n",
       "  <tbody>\n",
       "    <tr>\n",
       "      <th>33</th>\n",
       "      <td>35</td>\n",
       "      <td>0</td>\n",
       "      <td>2171</td>\n",
       "      <td>2017-08-20</td>\n",
       "      <td>0.0</td>\n",
       "      <td>Approved</td>\n",
       "      <td>Norco Bicycles</td>\n",
       "      <td>Road</td>\n",
       "      <td>medium</td>\n",
       "      <td>medium</td>\n",
       "      <td>544.05</td>\n",
       "      <td>376.84</td>\n",
       "      <td>38647.0</td>\n",
       "    </tr>\n",
       "    <tr>\n",
       "      <th>38</th>\n",
       "      <td>40</td>\n",
       "      <td>0</td>\n",
       "      <td>2448</td>\n",
       "      <td>2017-11-28</td>\n",
       "      <td>1.0</td>\n",
       "      <td>Approved</td>\n",
       "      <td>Norco Bicycles</td>\n",
       "      <td>Road</td>\n",
       "      <td>medium</td>\n",
       "      <td>medium</td>\n",
       "      <td>544.05</td>\n",
       "      <td>376.84</td>\n",
       "      <td>38647.0</td>\n",
       "    </tr>\n",
       "    <tr>\n",
       "      <th>53</th>\n",
       "      <td>55</td>\n",
       "      <td>0</td>\n",
       "      <td>3140</td>\n",
       "      <td>2017-09-18</td>\n",
       "      <td>0.0</td>\n",
       "      <td>Approved</td>\n",
       "      <td>Norco Bicycles</td>\n",
       "      <td>Standard</td>\n",
       "      <td>low</td>\n",
       "      <td>medium</td>\n",
       "      <td>363.01</td>\n",
       "      <td>290.41</td>\n",
       "      <td>38482.0</td>\n",
       "    </tr>\n",
       "    <tr>\n",
       "      <th>58</th>\n",
       "      <td>61</td>\n",
       "      <td>0</td>\n",
       "      <td>1839</td>\n",
       "      <td>2017-02-24</td>\n",
       "      <td>0.0</td>\n",
       "      <td>Approved</td>\n",
       "      <td>OHM Cycles</td>\n",
       "      <td>Road</td>\n",
       "      <td>high</td>\n",
       "      <td>large</td>\n",
       "      <td>12.01</td>\n",
       "      <td>7.21</td>\n",
       "      <td>34244.0</td>\n",
       "    </tr>\n",
       "    <tr>\n",
       "      <th>79</th>\n",
       "      <td>83</td>\n",
       "      <td>0</td>\n",
       "      <td>3398</td>\n",
       "      <td>2017-04-01</td>\n",
       "      <td>1.0</td>\n",
       "      <td>Approved</td>\n",
       "      <td>OHM Cycles</td>\n",
       "      <td>Standard</td>\n",
       "      <td>medium</td>\n",
       "      <td>medium</td>\n",
       "      <td>235.63</td>\n",
       "      <td>125.07</td>\n",
       "      <td>37626.0</td>\n",
       "    </tr>\n",
       "    <tr>\n",
       "      <th>...</th>\n",
       "      <td>...</td>\n",
       "      <td>...</td>\n",
       "      <td>...</td>\n",
       "      <td>...</td>\n",
       "      <td>...</td>\n",
       "      <td>...</td>\n",
       "      <td>...</td>\n",
       "      <td>...</td>\n",
       "      <td>...</td>\n",
       "      <td>...</td>\n",
       "      <td>...</td>\n",
       "      <td>...</td>\n",
       "      <td>...</td>\n",
       "    </tr>\n",
       "    <tr>\n",
       "      <th>19434</th>\n",
       "      <td>19922</td>\n",
       "      <td>0</td>\n",
       "      <td>1869</td>\n",
       "      <td>2017-01-06</td>\n",
       "      <td>1.0</td>\n",
       "      <td>Approved</td>\n",
       "      <td>Norco Bicycles</td>\n",
       "      <td>Road</td>\n",
       "      <td>medium</td>\n",
       "      <td>medium</td>\n",
       "      <td>543.39</td>\n",
       "      <td>407.54</td>\n",
       "      <td>37698.0</td>\n",
       "    </tr>\n",
       "    <tr>\n",
       "      <th>19454</th>\n",
       "      <td>19942</td>\n",
       "      <td>0</td>\n",
       "      <td>966</td>\n",
       "      <td>2017-07-30</td>\n",
       "      <td>1.0</td>\n",
       "      <td>Approved</td>\n",
       "      <td>OHM Cycles</td>\n",
       "      <td>Standard</td>\n",
       "      <td>low</td>\n",
       "      <td>medium</td>\n",
       "      <td>71.16</td>\n",
       "      <td>56.93</td>\n",
       "      <td>38647.0</td>\n",
       "    </tr>\n",
       "    <tr>\n",
       "      <th>19480</th>\n",
       "      <td>19968</td>\n",
       "      <td>0</td>\n",
       "      <td>2751</td>\n",
       "      <td>2017-04-06</td>\n",
       "      <td>0.0</td>\n",
       "      <td>Approved</td>\n",
       "      <td>WeareA2B</td>\n",
       "      <td>Standard</td>\n",
       "      <td>medium</td>\n",
       "      <td>medium</td>\n",
       "      <td>60.34</td>\n",
       "      <td>45.26</td>\n",
       "      <td>34165.0</td>\n",
       "    </tr>\n",
       "    <tr>\n",
       "      <th>19500</th>\n",
       "      <td>19988</td>\n",
       "      <td>0</td>\n",
       "      <td>13</td>\n",
       "      <td>2017-04-05</td>\n",
       "      <td>1.0</td>\n",
       "      <td>Approved</td>\n",
       "      <td>Norco Bicycles</td>\n",
       "      <td>Road</td>\n",
       "      <td>medium</td>\n",
       "      <td>medium</td>\n",
       "      <td>544.05</td>\n",
       "      <td>376.84</td>\n",
       "      <td>42105.0</td>\n",
       "    </tr>\n",
       "    <tr>\n",
       "      <th>19501</th>\n",
       "      <td>19989</td>\n",
       "      <td>0</td>\n",
       "      <td>714</td>\n",
       "      <td>2017-04-27</td>\n",
       "      <td>1.0</td>\n",
       "      <td>Approved</td>\n",
       "      <td>Norco Bicycles</td>\n",
       "      <td>Standard</td>\n",
       "      <td>low</td>\n",
       "      <td>medium</td>\n",
       "      <td>363.01</td>\n",
       "      <td>290.41</td>\n",
       "      <td>37626.0</td>\n",
       "    </tr>\n",
       "  </tbody>\n",
       "</table>\n",
       "<p>1334 rows × 13 columns</p>\n",
       "</div>"
      ],
      "text/plain": [
       "       transaction_id  product_id  customer_id transaction_date  online_order  \\\n",
       "33                 35           0         2171       2017-08-20           0.0   \n",
       "38                 40           0         2448       2017-11-28           1.0   \n",
       "53                 55           0         3140       2017-09-18           0.0   \n",
       "58                 61           0         1839       2017-02-24           0.0   \n",
       "79                 83           0         3398       2017-04-01           1.0   \n",
       "...               ...         ...          ...              ...           ...   \n",
       "19434           19922           0         1869       2017-01-06           1.0   \n",
       "19454           19942           0          966       2017-07-30           1.0   \n",
       "19480           19968           0         2751       2017-04-06           0.0   \n",
       "19500           19988           0           13       2017-04-05           1.0   \n",
       "19501           19989           0          714       2017-04-27           1.0   \n",
       "\n",
       "      order_status           brand product_line product_class product_size  \\\n",
       "33        Approved  Norco Bicycles         Road        medium       medium   \n",
       "38        Approved  Norco Bicycles         Road        medium       medium   \n",
       "53        Approved  Norco Bicycles     Standard           low       medium   \n",
       "58        Approved      OHM Cycles         Road          high        large   \n",
       "79        Approved      OHM Cycles     Standard        medium       medium   \n",
       "...            ...             ...          ...           ...          ...   \n",
       "19434     Approved  Norco Bicycles         Road        medium       medium   \n",
       "19454     Approved      OHM Cycles     Standard           low       medium   \n",
       "19480     Approved        WeareA2B     Standard        medium       medium   \n",
       "19500     Approved  Norco Bicycles         Road        medium       medium   \n",
       "19501     Approved  Norco Bicycles     Standard           low       medium   \n",
       "\n",
       "       list_price  standard_cost  product_first_sold_date  \n",
       "33         544.05         376.84                  38647.0  \n",
       "38         544.05         376.84                  38647.0  \n",
       "53         363.01         290.41                  38482.0  \n",
       "58          12.01           7.21                  34244.0  \n",
       "79         235.63         125.07                  37626.0  \n",
       "...           ...            ...                      ...  \n",
       "19434      543.39         407.54                  37698.0  \n",
       "19454       71.16          56.93                  38647.0  \n",
       "19480       60.34          45.26                  34165.0  \n",
       "19500      544.05         376.84                  42105.0  \n",
       "19501      363.01         290.41                  37626.0  \n",
       "\n",
       "[1334 rows x 13 columns]"
      ]
     },
     "execution_count": 49,
     "metadata": {},
     "output_type": "execute_result"
    }
   ],
   "source": [
    "# Table for product id = 0, which corresponds to the missing values\n",
    "df_transactions.loc[df_transactions.product_id==0]"
   ]
  },
  {
   "cell_type": "code",
   "execution_count": 50,
   "metadata": {},
   "outputs": [],
   "source": [
    "# Drop missing values samples since there is no way to accurately recover them\n",
    "df_transactions.drop(df_transactions.index[df_transactions.brand.isna()], inplace=True)\n",
    "# Reset indexes\n",
    "df_transactions.reset_index(drop=True, inplace=True)"
   ]
  },
  {
   "cell_type": "markdown",
   "metadata": {},
   "source": [
    "##### Does the same product id refer to different brands, lines, sizes, classes, etc?"
   ]
  },
  {
   "cell_type": "code",
   "execution_count": 51,
   "metadata": {
    "scrolled": false
   },
   "outputs": [
    {
     "name": "stdout",
     "output_type": "stream",
     "text": [
      "2\n",
      "1\n",
      "1\n",
      "1\n",
      "1\n",
      "2\n",
      "2\n",
      "2\n",
      "2\n",
      "2\n",
      "2\n",
      "2\n",
      "2\n",
      "1\n",
      "2\n",
      "1\n",
      "1\n",
      "2\n",
      "2\n",
      "2\n",
      "2\n",
      "2\n",
      "2\n",
      "1\n",
      "2\n",
      "6\n",
      "1\n",
      "2\n",
      "1\n",
      "2\n",
      "1\n",
      "2\n",
      "1\n",
      "2\n",
      "2\n",
      "2\n",
      "1\n",
      "2\n",
      "2\n",
      "2\n",
      "1\n",
      "1\n",
      "2\n",
      "2\n",
      "2\n",
      "2\n",
      "2\n",
      "1\n",
      "2\n",
      "2\n",
      "2\n",
      "2\n",
      "2\n",
      "2\n",
      "1\n",
      "2\n",
      "1\n",
      "2\n",
      "2\n",
      "2\n",
      "2\n",
      "2\n",
      "1\n",
      "1\n",
      "1\n",
      "2\n",
      "1\n",
      "1\n",
      "2\n",
      "1\n",
      "2\n",
      "2\n",
      "2\n",
      "1\n",
      "2\n",
      "2\n",
      "2\n",
      "2\n",
      "2\n",
      "2\n",
      "2\n",
      "1\n",
      "1\n",
      "1\n",
      "1\n",
      "1\n",
      "1\n",
      "2\n",
      "2\n",
      "2\n",
      "1\n",
      "1\n",
      "2\n",
      "1\n",
      "1\n",
      "1\n",
      "2\n",
      "1\n",
      "2\n",
      "2\n",
      "1\n"
     ]
    }
   ],
   "source": [
    "# How many different brands correspond to each product?\n",
    "for product in df_transactions.product_id.unique():\n",
    "    print(len(df_transactions.loc[df_transactions.product_id==product, 'brand'].unique()))"
   ]
  },
  {
   "cell_type": "code",
   "execution_count": 52,
   "metadata": {},
   "outputs": [],
   "source": [
    "# Drop product id since it is unclear or wrong its construction\n",
    "df_transactions.drop(columns=['product_id'], inplace=True)"
   ]
  },
  {
   "cell_type": "markdown",
   "metadata": {},
   "source": [
    "### Datetime variables"
   ]
  },
  {
   "cell_type": "markdown",
   "metadata": {},
   "source": [
    "##### Transaction date: does contain some error?"
   ]
  },
  {
   "cell_type": "code",
   "execution_count": 53,
   "metadata": {
    "scrolled": true
   },
   "outputs": [
    {
     "data": {
      "text/plain": [
       "2017    19327\n",
       "Name: transaction_date, dtype: int64"
      ]
     },
     "execution_count": 53,
     "metadata": {},
     "output_type": "execute_result"
    }
   ],
   "source": [
    "# Years of the transactions\n",
    "df_transactions.transaction_date.dt.year.value_counts()"
   ]
  },
  {
   "cell_type": "code",
   "execution_count": 54,
   "metadata": {
    "scrolled": true
   },
   "outputs": [
    {
     "data": {
      "text/plain": [
       "1     1620\n",
       "2     1584\n",
       "3     1589\n",
       "4     1595\n",
       "5     1638\n",
       "6     1523\n",
       "7     1650\n",
       "8     1690\n",
       "9     1520\n",
       "10    1719\n",
       "11    1617\n",
       "12    1582\n",
       "Name: transaction_date, dtype: int64"
      ]
     },
     "execution_count": 54,
     "metadata": {},
     "output_type": "execute_result"
    }
   ],
   "source": [
    "# Distribution in months since it only contain only a year\n",
    "df_transactions.transaction_date.dt.month.value_counts().sort_index()"
   ]
  },
  {
   "cell_type": "code",
   "execution_count": 55,
   "metadata": {},
   "outputs": [],
   "source": [
    "# Create new variable month\n",
    "df_transactions['month'] = df_transactions.transaction_date.dt.month"
   ]
  },
  {
   "cell_type": "markdown",
   "metadata": {},
   "source": [
    "##### Product first sold date"
   ]
  },
  {
   "cell_type": "code",
   "execution_count": 56,
   "metadata": {
    "scrolled": true
   },
   "outputs": [],
   "source": [
    "# It is maybe encoded in days after de 30th Dec 1899\n",
    "df_transactions.product_first_sold_date = \\\n",
    "df_transactions.product_first_sold_date.apply(lambda x: (datetime.datetime(1899, 12, 30) + \\\n",
    "                                                         datetime.timedelta(x)).strftime(\"%Y-%m-%d\"))\n",
    "# Data type\n",
    "df_transactions.product_first_sold_date = pd.to_datetime(df_transactions.product_first_sold_date)\n",
    "# Create new variable that counts the days from it is on sale until its bough\n",
    "df_transactions['on_sale'] = df_transactions.transaction_date-df_transactions.product_first_sold_date"
   ]
  },
  {
   "cell_type": "code",
   "execution_count": 57,
   "metadata": {},
   "outputs": [
    {
     "data": {
      "text/plain": [
       "count                        19327\n",
       "mean     4715 days 11:30:18.533660\n",
       "std      2874 days 17:03:51.034436\n",
       "min               27 days 00:00:00\n",
       "25%             2169 days 00:00:00\n",
       "50%             4687 days 00:00:00\n",
       "75%             7299 days 00:00:00\n",
       "max             9840 days 00:00:00\n",
       "Name: on_sale, dtype: object"
      ]
     },
     "execution_count": 57,
     "metadata": {},
     "output_type": "execute_result"
    }
   ],
   "source": [
    "df_transactions.on_sale.describe()"
   ]
  },
  {
   "cell_type": "code",
   "execution_count": 58,
   "metadata": {},
   "outputs": [],
   "source": [
    "# Drop column transaction date and on_sale column because the products were first sold too many days ago and there are only \n",
    "# transactions of 2017. Therefore it cannot be used to know if a client buys rapidly after the product is on sale or not\n",
    "df_transactions.drop(columns=['transaction_date', 'on_sale'], inplace=True)"
   ]
  },
  {
   "cell_type": "markdown",
   "metadata": {},
   "source": [
    "##### Online order: missing values"
   ]
  },
  {
   "cell_type": "code",
   "execution_count": 59,
   "metadata": {
    "scrolled": false
   },
   "outputs": [
    {
     "data": {
      "text/html": [
       "<div>\n",
       "<style scoped>\n",
       "    .dataframe tbody tr th:only-of-type {\n",
       "        vertical-align: middle;\n",
       "    }\n",
       "\n",
       "    .dataframe tbody tr th {\n",
       "        vertical-align: top;\n",
       "    }\n",
       "\n",
       "    .dataframe thead th {\n",
       "        text-align: right;\n",
       "    }\n",
       "</style>\n",
       "<table border=\"1\" class=\"dataframe\">\n",
       "  <thead>\n",
       "    <tr style=\"text-align: right;\">\n",
       "      <th></th>\n",
       "      <th>transaction_id</th>\n",
       "      <th>customer_id</th>\n",
       "      <th>online_order</th>\n",
       "      <th>order_status</th>\n",
       "      <th>brand</th>\n",
       "      <th>product_line</th>\n",
       "      <th>product_class</th>\n",
       "      <th>product_size</th>\n",
       "      <th>list_price</th>\n",
       "      <th>standard_cost</th>\n",
       "      <th>product_first_sold_date</th>\n",
       "      <th>month</th>\n",
       "    </tr>\n",
       "  </thead>\n",
       "  <tbody>\n",
       "    <tr>\n",
       "      <th>94</th>\n",
       "      <td>98</td>\n",
       "      <td>333</td>\n",
       "      <td>NaN</td>\n",
       "      <td>Approved</td>\n",
       "      <td>Trek Bicycles</td>\n",
       "      <td>Road</td>\n",
       "      <td>medium</td>\n",
       "      <td>medium</td>\n",
       "      <td>533.51</td>\n",
       "      <td>400.13</td>\n",
       "      <td>2003-07-21</td>\n",
       "      <td>6</td>\n",
       "    </tr>\n",
       "    <tr>\n",
       "      <th>159</th>\n",
       "      <td>167</td>\n",
       "      <td>3177</td>\n",
       "      <td>NaN</td>\n",
       "      <td>Approved</td>\n",
       "      <td>Norco Bicycles</td>\n",
       "      <td>Standard</td>\n",
       "      <td>low</td>\n",
       "      <td>medium</td>\n",
       "      <td>363.01</td>\n",
       "      <td>290.41</td>\n",
       "      <td>2005-05-10</td>\n",
       "      <td>4</td>\n",
       "    </tr>\n",
       "    <tr>\n",
       "      <th>162</th>\n",
       "      <td>170</td>\n",
       "      <td>404</td>\n",
       "      <td>NaN</td>\n",
       "      <td>Approved</td>\n",
       "      <td>OHM Cycles</td>\n",
       "      <td>Standard</td>\n",
       "      <td>high</td>\n",
       "      <td>medium</td>\n",
       "      <td>227.88</td>\n",
       "      <td>136.73</td>\n",
       "      <td>2003-08-05</td>\n",
       "      <td>10</td>\n",
       "    </tr>\n",
       "    <tr>\n",
       "      <th>240</th>\n",
       "      <td>251</td>\n",
       "      <td>1967</td>\n",
       "      <td>NaN</td>\n",
       "      <td>Approved</td>\n",
       "      <td>Solex</td>\n",
       "      <td>Standard</td>\n",
       "      <td>medium</td>\n",
       "      <td>medium</td>\n",
       "      <td>1483.20</td>\n",
       "      <td>99.59</td>\n",
       "      <td>2015-05-21</td>\n",
       "      <td>4</td>\n",
       "    </tr>\n",
       "    <tr>\n",
       "      <th>289</th>\n",
       "      <td>301</td>\n",
       "      <td>2530</td>\n",
       "      <td>NaN</td>\n",
       "      <td>Approved</td>\n",
       "      <td>Giant Bicycles</td>\n",
       "      <td>Standard</td>\n",
       "      <td>medium</td>\n",
       "      <td>large</td>\n",
       "      <td>1765.30</td>\n",
       "      <td>709.48</td>\n",
       "      <td>1997-01-25</td>\n",
       "      <td>3</td>\n",
       "    </tr>\n",
       "    <tr>\n",
       "      <th>...</th>\n",
       "      <td>...</td>\n",
       "      <td>...</td>\n",
       "      <td>...</td>\n",
       "      <td>...</td>\n",
       "      <td>...</td>\n",
       "      <td>...</td>\n",
       "      <td>...</td>\n",
       "      <td>...</td>\n",
       "      <td>...</td>\n",
       "      <td>...</td>\n",
       "      <td>...</td>\n",
       "      <td>...</td>\n",
       "    </tr>\n",
       "    <tr>\n",
       "      <th>18851</th>\n",
       "      <td>19515</td>\n",
       "      <td>690</td>\n",
       "      <td>NaN</td>\n",
       "      <td>Approved</td>\n",
       "      <td>OHM Cycles</td>\n",
       "      <td>Standard</td>\n",
       "      <td>high</td>\n",
       "      <td>medium</td>\n",
       "      <td>2005.66</td>\n",
       "      <td>1203.40</td>\n",
       "      <td>2003-07-21</td>\n",
       "      <td>1</td>\n",
       "    </tr>\n",
       "    <tr>\n",
       "      <th>18908</th>\n",
       "      <td>19574</td>\n",
       "      <td>1735</td>\n",
       "      <td>NaN</td>\n",
       "      <td>Approved</td>\n",
       "      <td>Solex</td>\n",
       "      <td>Standard</td>\n",
       "      <td>medium</td>\n",
       "      <td>medium</td>\n",
       "      <td>575.27</td>\n",
       "      <td>431.45</td>\n",
       "      <td>2013-03-12</td>\n",
       "      <td>1</td>\n",
       "    </tr>\n",
       "    <tr>\n",
       "      <th>18915</th>\n",
       "      <td>19581</td>\n",
       "      <td>1933</td>\n",
       "      <td>NaN</td>\n",
       "      <td>Approved</td>\n",
       "      <td>Trek Bicycles</td>\n",
       "      <td>Road</td>\n",
       "      <td>medium</td>\n",
       "      <td>medium</td>\n",
       "      <td>533.51</td>\n",
       "      <td>400.13</td>\n",
       "      <td>2012-06-04</td>\n",
       "      <td>10</td>\n",
       "    </tr>\n",
       "    <tr>\n",
       "      <th>18969</th>\n",
       "      <td>19636</td>\n",
       "      <td>1389</td>\n",
       "      <td>NaN</td>\n",
       "      <td>Approved</td>\n",
       "      <td>Trek Bicycles</td>\n",
       "      <td>Standard</td>\n",
       "      <td>high</td>\n",
       "      <td>medium</td>\n",
       "      <td>358.39</td>\n",
       "      <td>215.03</td>\n",
       "      <td>2004-01-16</td>\n",
       "      <td>7</td>\n",
       "    </tr>\n",
       "    <tr>\n",
       "      <th>19173</th>\n",
       "      <td>19844</td>\n",
       "      <td>8</td>\n",
       "      <td>NaN</td>\n",
       "      <td>Approved</td>\n",
       "      <td>Trek Bicycles</td>\n",
       "      <td>Standard</td>\n",
       "      <td>medium</td>\n",
       "      <td>large</td>\n",
       "      <td>2091.47</td>\n",
       "      <td>388.92</td>\n",
       "      <td>2003-07-21</td>\n",
       "      <td>1</td>\n",
       "    </tr>\n",
       "  </tbody>\n",
       "</table>\n",
       "<p>349 rows × 12 columns</p>\n",
       "</div>"
      ],
      "text/plain": [
       "       transaction_id  customer_id  online_order order_status           brand  \\\n",
       "94                 98          333           NaN     Approved   Trek Bicycles   \n",
       "159               167         3177           NaN     Approved  Norco Bicycles   \n",
       "162               170          404           NaN     Approved      OHM Cycles   \n",
       "240               251         1967           NaN     Approved           Solex   \n",
       "289               301         2530           NaN     Approved  Giant Bicycles   \n",
       "...               ...          ...           ...          ...             ...   \n",
       "18851           19515          690           NaN     Approved      OHM Cycles   \n",
       "18908           19574         1735           NaN     Approved           Solex   \n",
       "18915           19581         1933           NaN     Approved   Trek Bicycles   \n",
       "18969           19636         1389           NaN     Approved   Trek Bicycles   \n",
       "19173           19844            8           NaN     Approved   Trek Bicycles   \n",
       "\n",
       "      product_line product_class product_size  list_price  standard_cost  \\\n",
       "94            Road        medium       medium      533.51         400.13   \n",
       "159       Standard           low       medium      363.01         290.41   \n",
       "162       Standard          high       medium      227.88         136.73   \n",
       "240       Standard        medium       medium     1483.20          99.59   \n",
       "289       Standard        medium        large     1765.30         709.48   \n",
       "...            ...           ...          ...         ...            ...   \n",
       "18851     Standard          high       medium     2005.66        1203.40   \n",
       "18908     Standard        medium       medium      575.27         431.45   \n",
       "18915         Road        medium       medium      533.51         400.13   \n",
       "18969     Standard          high       medium      358.39         215.03   \n",
       "19173     Standard        medium        large     2091.47         388.92   \n",
       "\n",
       "      product_first_sold_date  month  \n",
       "94                 2003-07-21      6  \n",
       "159                2005-05-10      4  \n",
       "162                2003-08-05     10  \n",
       "240                2015-05-21      4  \n",
       "289                1997-01-25      3  \n",
       "...                       ...    ...  \n",
       "18851              2003-07-21      1  \n",
       "18908              2013-03-12      1  \n",
       "18915              2012-06-04     10  \n",
       "18969              2004-01-16      7  \n",
       "19173              2003-07-21      1  \n",
       "\n",
       "[349 rows x 12 columns]"
      ]
     },
     "execution_count": 59,
     "metadata": {},
     "output_type": "execute_result"
    }
   ],
   "source": [
    "# Overview\n",
    "df_transactions.loc[df_transactions.online_order.isna()]"
   ]
  },
  {
   "cell_type": "code",
   "execution_count": 60,
   "metadata": {},
   "outputs": [
    {
     "data": {
      "text/plain": [
       "1.0    9502\n",
       "0.0    9476\n",
       "Name: online_order, dtype: int64"
      ]
     },
     "execution_count": 60,
     "metadata": {},
     "output_type": "execute_result"
    }
   ],
   "source": [
    "# Look at the balance of both classes\n",
    "df_transactions.online_order.value_counts()"
   ]
  },
  {
   "cell_type": "code",
   "execution_count": 61,
   "metadata": {},
   "outputs": [],
   "source": [
    "# It can be assigned to each customer an online frequency by looking at the percentage of time he or she has bought online\n",
    "online_freq = []\n",
    "customers = df_transactions.loc[df_transactions.online_order.isna(),'customer_id'].unique()\n",
    "for customer in customers:\n",
    "    online_freq.append(df_transactions.loc[df_transactions.customer_id==customer,'online_order'].mean())\n",
    "# If frequency is greater or equal than 0.5, or is nan, online order is assigned to 1. Else 0.\n",
    "online_freq = [1 if (x>=0.5) | (x=='nan') else 0 for x in online_freq]"
   ]
  },
  {
   "cell_type": "code",
   "execution_count": 62,
   "metadata": {},
   "outputs": [],
   "source": [
    "# Loop for customers with missing values and fill\n",
    "for ind, customer in enumerate(customers):\n",
    "    df_transactions.loc[df_transactions.customer_id==customer,'online_order'] = \\\n",
    "    df_transactions.loc[df_transactions.customer_id==customer,'online_order'].fillna(online_freq[ind])"
   ]
  },
  {
   "cell_type": "markdown",
   "metadata": {},
   "source": [
    "### Categorical variables"
   ]
  },
  {
   "cell_type": "code",
   "execution_count": 63,
   "metadata": {
    "scrolled": true
   },
   "outputs": [
    {
     "name": "stdout",
     "output_type": "stream",
     "text": [
      "ORDER_STATUS\n",
      "Approved     19152\n",
      "Cancelled      175\n",
      "Name: order_status, dtype: int64 \n",
      "\n",
      "BRAND\n",
      "Solex             4171\n",
      "Giant Bicycles    3236\n",
      "WeareA2B          3203\n",
      "OHM Cycles        2976\n",
      "Trek Bicycles     2914\n",
      "Norco Bicycles    2827\n",
      "Name: brand, dtype: int64 \n",
      "\n",
      "PRODUCT_LINE\n",
      "Standard    13851\n",
      "Road         3871\n",
      "Touring      1193\n",
      "Mountain      412\n",
      "Name: product_line, dtype: int64 \n",
      "\n",
      "PRODUCT_CLASS\n",
      "medium    13477\n",
      "high       2945\n",
      "low        2905\n",
      "Name: product_class, dtype: int64 \n",
      "\n",
      "PRODUCT_SIZE\n",
      "medium    12685\n",
      "large      3880\n",
      "small      2762\n",
      "Name: product_size, dtype: int64 \n",
      "\n"
     ]
    }
   ],
   "source": [
    "for cat in ['order_status']+aux_list[0:4]:\n",
    "    print(cat.upper())\n",
    "    print(df_transactions[cat].value_counts(),'\\n')"
   ]
  },
  {
   "cell_type": "markdown",
   "metadata": {},
   "source": [
    "### Numerical variables"
   ]
  },
  {
   "cell_type": "code",
   "execution_count": 64,
   "metadata": {
    "scrolled": true
   },
   "outputs": [
    {
     "data": {
      "text/html": [
       "<div>\n",
       "<style scoped>\n",
       "    .dataframe tbody tr th:only-of-type {\n",
       "        vertical-align: middle;\n",
       "    }\n",
       "\n",
       "    .dataframe tbody tr th {\n",
       "        vertical-align: top;\n",
       "    }\n",
       "\n",
       "    .dataframe thead th {\n",
       "        text-align: right;\n",
       "    }\n",
       "</style>\n",
       "<table border=\"1\" class=\"dataframe\">\n",
       "  <thead>\n",
       "    <tr style=\"text-align: right;\">\n",
       "      <th></th>\n",
       "      <th>list_price</th>\n",
       "      <th>standard_cost</th>\n",
       "      <th>month</th>\n",
       "    </tr>\n",
       "  </thead>\n",
       "  <tbody>\n",
       "    <tr>\n",
       "      <th>count</th>\n",
       "      <td>19327.000000</td>\n",
       "      <td>19327.000000</td>\n",
       "      <td>19327.000000</td>\n",
       "    </tr>\n",
       "    <tr>\n",
       "      <th>mean</th>\n",
       "      <td>1106.447654</td>\n",
       "      <td>555.749864</td>\n",
       "      <td>6.518032</td>\n",
       "    </tr>\n",
       "    <tr>\n",
       "      <th>std</th>\n",
       "      <td>582.891952</td>\n",
       "      <td>405.716005</td>\n",
       "      <td>3.449398</td>\n",
       "    </tr>\n",
       "    <tr>\n",
       "      <th>min</th>\n",
       "      <td>12.010000</td>\n",
       "      <td>7.210000</td>\n",
       "      <td>1.000000</td>\n",
       "    </tr>\n",
       "    <tr>\n",
       "      <th>25%</th>\n",
       "      <td>575.270000</td>\n",
       "      <td>215.140000</td>\n",
       "      <td>4.000000</td>\n",
       "    </tr>\n",
       "    <tr>\n",
       "      <th>50%</th>\n",
       "      <td>1163.890000</td>\n",
       "      <td>507.580000</td>\n",
       "      <td>7.000000</td>\n",
       "    </tr>\n",
       "    <tr>\n",
       "      <th>75%</th>\n",
       "      <td>1635.300000</td>\n",
       "      <td>795.100000</td>\n",
       "      <td>10.000000</td>\n",
       "    </tr>\n",
       "    <tr>\n",
       "      <th>max</th>\n",
       "      <td>2091.470000</td>\n",
       "      <td>1759.850000</td>\n",
       "      <td>12.000000</td>\n",
       "    </tr>\n",
       "  </tbody>\n",
       "</table>\n",
       "</div>"
      ],
      "text/plain": [
       "         list_price  standard_cost         month\n",
       "count  19327.000000   19327.000000  19327.000000\n",
       "mean    1106.447654     555.749864      6.518032\n",
       "std      582.891952     405.716005      3.449398\n",
       "min       12.010000       7.210000      1.000000\n",
       "25%      575.270000     215.140000      4.000000\n",
       "50%     1163.890000     507.580000      7.000000\n",
       "75%     1635.300000     795.100000     10.000000\n",
       "max     2091.470000    1759.850000     12.000000"
      ]
     },
     "execution_count": 64,
     "metadata": {},
     "output_type": "execute_result"
    }
   ],
   "source": [
    "# Description\n",
    "df_transactions.drop(columns=['transaction_id', 'customer_id', 'online_order']).describe()"
   ]
  },
  {
   "cell_type": "code",
   "execution_count": 65,
   "metadata": {},
   "outputs": [
    {
     "data": {
      "image/png": "[encoded data removed]",
      "text/plain": [
       "<Figure size 1080x432 with 4 Axes>"
      ]
     },
     "metadata": {
      "needs_background": "light"
     },
     "output_type": "display_data"
    }
   ],
   "source": [
    "# Distributions\n",
    "import matplotlib.pyplot as plt\n",
    "plt.figure(figsize = (15,6))\n",
    "plt.subplot(2,2,1); plt.title('list_price')\n",
    "df_transactions.list_price.hist()\n",
    "plt.subplot(2,2,2); plt.title('standard_cost')\n",
    "df_transactions.standard_cost.hist()\n",
    "plt.subplot(2,2,3); plt.title('product_first_sold_date')\n",
    "df_transactions.product_first_sold_date.hist()\n",
    "plt.subplot(2,2,4); plt.title('month')\n",
    "df_transactions.month.hist()\n",
    "plt.show()"
   ]
  },
  {
   "cell_type": "code",
   "execution_count": 66,
   "metadata": {
    "scrolled": true
   },
   "outputs": [
    {
     "name": "stdout",
     "output_type": "stream",
     "text": [
      "All transactions make profit\n"
     ]
    }
   ],
   "source": [
    "# Check if there is always benefit on the transactions\n",
    "import numpy as np\n",
    "if np.sign(df_transactions.list_price-df_transactions.standard_cost).mean()==1:\n",
    "    print('All transactions make profit')"
   ]
  },
  {
   "cell_type": "markdown",
   "metadata": {},
   "source": [
    "##### Create benefit feature and drop list prices and standard cost as well as product first sold"
   ]
  },
  {
   "cell_type": "code",
   "execution_count": 67,
   "metadata": {},
   "outputs": [],
   "source": [
    "# Benefit as the substraction of the standard cost to the list_price\n",
    "df_transactions['profit'] = df_transactions.list_price-df_transactions.standard_cost\n",
    "\n",
    "# Drop previous used features and product_first_sold_date \n",
    "df_transactions.drop(columns=['list_price','standard_cost', 'product_first_sold_date'], inplace=True)"
   ]
  },
  {
   "cell_type": "markdown",
   "metadata": {},
   "source": [
    "---------------"
   ]
  },
  {
   "cell_type": "markdown",
   "metadata": {},
   "source": [
    "## NewCustomerList"
   ]
  },
  {
   "cell_type": "code",
   "execution_count": 68,
   "metadata": {},
   "outputs": [],
   "source": [
    "# Import data\n",
    "df_new = pd.read_excel('KPMG_VI_New_raw_data_update_final.xlsx', sheet_name='NewCustomerList', skiprows=[0])"
   ]
  },
  {
   "cell_type": "code",
   "execution_count": 69,
   "metadata": {},
   "outputs": [
    {
     "data": {
      "text/html": [
       "<div>\n",
       "<style scoped>\n",
       "    .dataframe tbody tr th:only-of-type {\n",
       "        vertical-align: middle;\n",
       "    }\n",
       "\n",
       "    .dataframe tbody tr th {\n",
       "        vertical-align: top;\n",
       "    }\n",
       "\n",
       "    .dataframe thead th {\n",
       "        text-align: right;\n",
       "    }\n",
       "</style>\n",
       "<table border=\"1\" class=\"dataframe\">\n",
       "  <thead>\n",
       "    <tr style=\"text-align: right;\">\n",
       "      <th></th>\n",
       "      <th>first_name</th>\n",
       "      <th>last_name</th>\n",
       "      <th>gender</th>\n",
       "      <th>past_3_years_bike_related_purchases</th>\n",
       "      <th>DOB</th>\n",
       "      <th>job_title</th>\n",
       "      <th>job_industry_category</th>\n",
       "      <th>wealth_segment</th>\n",
       "      <th>deceased_indicator</th>\n",
       "      <th>owns_car</th>\n",
       "      <th>...</th>\n",
       "      <th>state</th>\n",
       "      <th>country</th>\n",
       "      <th>property_valuation</th>\n",
       "      <th>Unnamed: 16</th>\n",
       "      <th>Unnamed: 17</th>\n",
       "      <th>Unnamed: 18</th>\n",
       "      <th>Unnamed: 19</th>\n",
       "      <th>Unnamed: 20</th>\n",
       "      <th>Rank</th>\n",
       "      <th>Value</th>\n",
       "    </tr>\n",
       "  </thead>\n",
       "  <tbody>\n",
       "    <tr>\n",
       "      <th>0</th>\n",
       "      <td>Chickie</td>\n",
       "      <td>Brister</td>\n",
       "      <td>Male</td>\n",
       "      <td>86</td>\n",
       "      <td>1957-07-12</td>\n",
       "      <td>General Manager</td>\n",
       "      <td>Manufacturing</td>\n",
       "      <td>Mass Customer</td>\n",
       "      <td>N</td>\n",
       "      <td>Yes</td>\n",
       "      <td>...</td>\n",
       "      <td>QLD</td>\n",
       "      <td>Australia</td>\n",
       "      <td>6</td>\n",
       "      <td>0.56</td>\n",
       "      <td>0.7000</td>\n",
       "      <td>0.875000</td>\n",
       "      <td>0.743750</td>\n",
       "      <td>1</td>\n",
       "      <td>1</td>\n",
       "      <td>1.718750</td>\n",
       "    </tr>\n",
       "    <tr>\n",
       "      <th>1</th>\n",
       "      <td>Morly</td>\n",
       "      <td>Genery</td>\n",
       "      <td>Male</td>\n",
       "      <td>69</td>\n",
       "      <td>1970-03-22</td>\n",
       "      <td>Structural Engineer</td>\n",
       "      <td>Property</td>\n",
       "      <td>Mass Customer</td>\n",
       "      <td>N</td>\n",
       "      <td>No</td>\n",
       "      <td>...</td>\n",
       "      <td>NSW</td>\n",
       "      <td>Australia</td>\n",
       "      <td>11</td>\n",
       "      <td>0.89</td>\n",
       "      <td>0.8900</td>\n",
       "      <td>1.112500</td>\n",
       "      <td>0.945625</td>\n",
       "      <td>1</td>\n",
       "      <td>1</td>\n",
       "      <td>1.718750</td>\n",
       "    </tr>\n",
       "    <tr>\n",
       "      <th>2</th>\n",
       "      <td>Ardelis</td>\n",
       "      <td>Forrester</td>\n",
       "      <td>Female</td>\n",
       "      <td>10</td>\n",
       "      <td>1974-08-28</td>\n",
       "      <td>Senior Cost Accountant</td>\n",
       "      <td>Financial Services</td>\n",
       "      <td>Affluent Customer</td>\n",
       "      <td>N</td>\n",
       "      <td>No</td>\n",
       "      <td>...</td>\n",
       "      <td>VIC</td>\n",
       "      <td>Australia</td>\n",
       "      <td>5</td>\n",
       "      <td>1.01</td>\n",
       "      <td>1.0100</td>\n",
       "      <td>1.010000</td>\n",
       "      <td>1.010000</td>\n",
       "      <td>1</td>\n",
       "      <td>1</td>\n",
       "      <td>1.718750</td>\n",
       "    </tr>\n",
       "    <tr>\n",
       "      <th>3</th>\n",
       "      <td>Lucine</td>\n",
       "      <td>Stutt</td>\n",
       "      <td>Female</td>\n",
       "      <td>64</td>\n",
       "      <td>1979-01-28</td>\n",
       "      <td>Account Representative III</td>\n",
       "      <td>Manufacturing</td>\n",
       "      <td>Affluent Customer</td>\n",
       "      <td>N</td>\n",
       "      <td>Yes</td>\n",
       "      <td>...</td>\n",
       "      <td>QLD</td>\n",
       "      <td>Australia</td>\n",
       "      <td>1</td>\n",
       "      <td>0.87</td>\n",
       "      <td>1.0875</td>\n",
       "      <td>1.087500</td>\n",
       "      <td>1.087500</td>\n",
       "      <td>4</td>\n",
       "      <td>4</td>\n",
       "      <td>1.703125</td>\n",
       "    </tr>\n",
       "    <tr>\n",
       "      <th>4</th>\n",
       "      <td>Melinda</td>\n",
       "      <td>Hadlee</td>\n",
       "      <td>Female</td>\n",
       "      <td>34</td>\n",
       "      <td>1965-09-21</td>\n",
       "      <td>Financial Analyst</td>\n",
       "      <td>Financial Services</td>\n",
       "      <td>Affluent Customer</td>\n",
       "      <td>N</td>\n",
       "      <td>No</td>\n",
       "      <td>...</td>\n",
       "      <td>NSW</td>\n",
       "      <td>Australia</td>\n",
       "      <td>9</td>\n",
       "      <td>0.52</td>\n",
       "      <td>0.5200</td>\n",
       "      <td>0.650000</td>\n",
       "      <td>0.650000</td>\n",
       "      <td>4</td>\n",
       "      <td>4</td>\n",
       "      <td>1.703125</td>\n",
       "    </tr>\n",
       "    <tr>\n",
       "      <th>...</th>\n",
       "      <td>...</td>\n",
       "      <td>...</td>\n",
       "      <td>...</td>\n",
       "      <td>...</td>\n",
       "      <td>...</td>\n",
       "      <td>...</td>\n",
       "      <td>...</td>\n",
       "      <td>...</td>\n",
       "      <td>...</td>\n",
       "      <td>...</td>\n",
       "      <td>...</td>\n",
       "      <td>...</td>\n",
       "      <td>...</td>\n",
       "      <td>...</td>\n",
       "      <td>...</td>\n",
       "      <td>...</td>\n",
       "      <td>...</td>\n",
       "      <td>...</td>\n",
       "      <td>...</td>\n",
       "      <td>...</td>\n",
       "      <td>...</td>\n",
       "    </tr>\n",
       "    <tr>\n",
       "      <th>995</th>\n",
       "      <td>Ferdinand</td>\n",
       "      <td>Romanetti</td>\n",
       "      <td>Male</td>\n",
       "      <td>60</td>\n",
       "      <td>1959-10-07</td>\n",
       "      <td>Paralegal</td>\n",
       "      <td>Financial Services</td>\n",
       "      <td>Affluent Customer</td>\n",
       "      <td>N</td>\n",
       "      <td>No</td>\n",
       "      <td>...</td>\n",
       "      <td>NSW</td>\n",
       "      <td>Australia</td>\n",
       "      <td>7</td>\n",
       "      <td>0.79</td>\n",
       "      <td>0.7900</td>\n",
       "      <td>0.790000</td>\n",
       "      <td>0.790000</td>\n",
       "      <td>996</td>\n",
       "      <td>996</td>\n",
       "      <td>0.374000</td>\n",
       "    </tr>\n",
       "    <tr>\n",
       "      <th>996</th>\n",
       "      <td>Burk</td>\n",
       "      <td>Wortley</td>\n",
       "      <td>Male</td>\n",
       "      <td>22</td>\n",
       "      <td>2001-10-17</td>\n",
       "      <td>Senior Sales Associate</td>\n",
       "      <td>Health</td>\n",
       "      <td>Mass Customer</td>\n",
       "      <td>N</td>\n",
       "      <td>No</td>\n",
       "      <td>...</td>\n",
       "      <td>NSW</td>\n",
       "      <td>Australia</td>\n",
       "      <td>10</td>\n",
       "      <td>0.76</td>\n",
       "      <td>0.7600</td>\n",
       "      <td>0.950000</td>\n",
       "      <td>0.807500</td>\n",
       "      <td>997</td>\n",
       "      <td>997</td>\n",
       "      <td>0.357000</td>\n",
       "    </tr>\n",
       "    <tr>\n",
       "      <th>997</th>\n",
       "      <td>Melloney</td>\n",
       "      <td>Temby</td>\n",
       "      <td>Female</td>\n",
       "      <td>17</td>\n",
       "      <td>1954-10-05</td>\n",
       "      <td>Budget/Accounting Analyst IV</td>\n",
       "      <td>Financial Services</td>\n",
       "      <td>Affluent Customer</td>\n",
       "      <td>N</td>\n",
       "      <td>Yes</td>\n",
       "      <td>...</td>\n",
       "      <td>QLD</td>\n",
       "      <td>Australia</td>\n",
       "      <td>2</td>\n",
       "      <td>0.85</td>\n",
       "      <td>1.0625</td>\n",
       "      <td>1.062500</td>\n",
       "      <td>1.062500</td>\n",
       "      <td>997</td>\n",
       "      <td>997</td>\n",
       "      <td>0.357000</td>\n",
       "    </tr>\n",
       "    <tr>\n",
       "      <th>998</th>\n",
       "      <td>Dickie</td>\n",
       "      <td>Cubbini</td>\n",
       "      <td>Male</td>\n",
       "      <td>30</td>\n",
       "      <td>1952-12-17</td>\n",
       "      <td>Financial Advisor</td>\n",
       "      <td>Financial Services</td>\n",
       "      <td>Mass Customer</td>\n",
       "      <td>N</td>\n",
       "      <td>Yes</td>\n",
       "      <td>...</td>\n",
       "      <td>QLD</td>\n",
       "      <td>Australia</td>\n",
       "      <td>2</td>\n",
       "      <td>1.09</td>\n",
       "      <td>1.3625</td>\n",
       "      <td>1.362500</td>\n",
       "      <td>1.158125</td>\n",
       "      <td>997</td>\n",
       "      <td>997</td>\n",
       "      <td>0.357000</td>\n",
       "    </tr>\n",
       "    <tr>\n",
       "      <th>999</th>\n",
       "      <td>Sylas</td>\n",
       "      <td>Duffill</td>\n",
       "      <td>Male</td>\n",
       "      <td>56</td>\n",
       "      <td>1955-10-02</td>\n",
       "      <td>Staff Accountant IV</td>\n",
       "      <td>Property</td>\n",
       "      <td>Mass Customer</td>\n",
       "      <td>N</td>\n",
       "      <td>Yes</td>\n",
       "      <td>...</td>\n",
       "      <td>NSW</td>\n",
       "      <td>Australia</td>\n",
       "      <td>9</td>\n",
       "      <td>0.47</td>\n",
       "      <td>0.5875</td>\n",
       "      <td>0.734375</td>\n",
       "      <td>0.624219</td>\n",
       "      <td>1000</td>\n",
       "      <td>1000</td>\n",
       "      <td>0.340000</td>\n",
       "    </tr>\n",
       "  </tbody>\n",
       "</table>\n",
       "<p>1000 rows × 23 columns</p>\n",
       "</div>"
      ],
      "text/plain": [
       "    first_name  last_name  gender  past_3_years_bike_related_purchases  \\\n",
       "0      Chickie    Brister    Male                                   86   \n",
       "1        Morly     Genery    Male                                   69   \n",
       "2      Ardelis  Forrester  Female                                   10   \n",
       "3       Lucine      Stutt  Female                                   64   \n",
       "4      Melinda     Hadlee  Female                                   34   \n",
       "..         ...        ...     ...                                  ...   \n",
       "995  Ferdinand  Romanetti    Male                                   60   \n",
       "996       Burk    Wortley    Male                                   22   \n",
       "997   Melloney      Temby  Female                                   17   \n",
       "998     Dickie    Cubbini    Male                                   30   \n",
       "999      Sylas    Duffill    Male                                   56   \n",
       "\n",
       "           DOB                     job_title job_industry_category  \\\n",
       "0   1957-07-12               General Manager         Manufacturing   \n",
       "1   1970-03-22           Structural Engineer              Property   \n",
       "2   1974-08-28        Senior Cost Accountant    Financial Services   \n",
       "3   1979-01-28    Account Representative III         Manufacturing   \n",
       "4   1965-09-21             Financial Analyst    Financial Services   \n",
       "..         ...                           ...                   ...   \n",
       "995 1959-10-07                     Paralegal    Financial Services   \n",
       "996 2001-10-17        Senior Sales Associate                Health   \n",
       "997 1954-10-05  Budget/Accounting Analyst IV    Financial Services   \n",
       "998 1952-12-17             Financial Advisor    Financial Services   \n",
       "999 1955-10-02           Staff Accountant IV              Property   \n",
       "\n",
       "        wealth_segment deceased_indicator owns_car  ...  state    country  \\\n",
       "0        Mass Customer                  N      Yes  ...    QLD  Australia   \n",
       "1        Mass Customer                  N       No  ...    NSW  Australia   \n",
       "2    Affluent Customer                  N       No  ...    VIC  Australia   \n",
       "3    Affluent Customer                  N      Yes  ...    QLD  Australia   \n",
       "4    Affluent Customer                  N       No  ...    NSW  Australia   \n",
       "..                 ...                ...      ...  ...    ...        ...   \n",
       "995  Affluent Customer                  N       No  ...    NSW  Australia   \n",
       "996      Mass Customer                  N       No  ...    NSW  Australia   \n",
       "997  Affluent Customer                  N      Yes  ...    QLD  Australia   \n",
       "998      Mass Customer                  N      Yes  ...    QLD  Australia   \n",
       "999      Mass Customer                  N      Yes  ...    NSW  Australia   \n",
       "\n",
       "     property_valuation Unnamed: 16 Unnamed: 17  Unnamed: 18  Unnamed: 19  \\\n",
       "0                     6        0.56      0.7000     0.875000     0.743750   \n",
       "1                    11        0.89      0.8900     1.112500     0.945625   \n",
       "2                     5        1.01      1.0100     1.010000     1.010000   \n",
       "3                     1        0.87      1.0875     1.087500     1.087500   \n",
       "4                     9        0.52      0.5200     0.650000     0.650000   \n",
       "..                  ...         ...         ...          ...          ...   \n",
       "995                   7        0.79      0.7900     0.790000     0.790000   \n",
       "996                  10        0.76      0.7600     0.950000     0.807500   \n",
       "997                   2        0.85      1.0625     1.062500     1.062500   \n",
       "998                   2        1.09      1.3625     1.362500     1.158125   \n",
       "999                   9        0.47      0.5875     0.734375     0.624219   \n",
       "\n",
       "     Unnamed: 20  Rank     Value  \n",
       "0              1     1  1.718750  \n",
       "1              1     1  1.718750  \n",
       "2              1     1  1.718750  \n",
       "3              4     4  1.703125  \n",
       "4              4     4  1.703125  \n",
       "..           ...   ...       ...  \n",
       "995          996   996  0.374000  \n",
       "996          997   997  0.357000  \n",
       "997          997   997  0.357000  \n",
       "998          997   997  0.357000  \n",
       "999         1000  1000  0.340000  \n",
       "\n",
       "[1000 rows x 23 columns]"
      ]
     },
     "execution_count": 69,
     "metadata": {},
     "output_type": "execute_result"
    }
   ],
   "source": [
    "# Overview\n",
    "df_new"
   ]
  },
  {
   "cell_type": "code",
   "execution_count": 70,
   "metadata": {
    "scrolled": true
   },
   "outputs": [
    {
     "name": "stdout",
     "output_type": "stream",
     "text": [
      "<class 'pandas.core.frame.DataFrame'>\n",
      "RangeIndex: 1000 entries, 0 to 999\n",
      "Data columns (total 23 columns):\n",
      " #   Column                               Non-Null Count  Dtype         \n",
      "---  ------                               --------------  -----         \n",
      " 0   first_name                           1000 non-null   object        \n",
      " 1   last_name                            971 non-null    object        \n",
      " 2   gender                               1000 non-null   object        \n",
      " 3   past_3_years_bike_related_purchases  1000 non-null   int64         \n",
      " 4   DOB                                  983 non-null    datetime64[ns]\n",
      " 5   job_title                            894 non-null    object        \n",
      " 6   job_industry_category                835 non-null    object        \n",
      " 7   wealth_segment                       1000 non-null   object        \n",
      " 8   deceased_indicator                   1000 non-null   object        \n",
      " 9   owns_car                             1000 non-null   object        \n",
      " 10  tenure                               1000 non-null   int64         \n",
      " 11  address                              1000 non-null   object        \n",
      " 12  postcode                             1000 non-null   int64         \n",
      " 13  state                                1000 non-null   object        \n",
      " 14  country                              1000 non-null   object        \n",
      " 15  property_valuation                   1000 non-null   int64         \n",
      " 16  Unnamed: 16                          1000 non-null   float64       \n",
      " 17  Unnamed: 17                          1000 non-null   float64       \n",
      " 18  Unnamed: 18                          1000 non-null   float64       \n",
      " 19  Unnamed: 19                          1000 non-null   float64       \n",
      " 20  Unnamed: 20                          1000 non-null   int64         \n",
      " 21  Rank                                 1000 non-null   int64         \n",
      " 22  Value                                1000 non-null   float64       \n",
      "dtypes: datetime64[ns](1), float64(5), int64(6), object(11)\n",
      "memory usage: 791.5 KB\n"
     ]
    }
   ],
   "source": [
    "# Missing values + data types + memory usage\n",
    "df_new.info(memory_usage='deep')"
   ]
  },
  {
   "cell_type": "markdown",
   "metadata": {},
   "source": [
    "##### Drop of freatures not available in the training dataset"
   ]
  },
  {
   "cell_type": "code",
   "execution_count": 71,
   "metadata": {},
   "outputs": [],
   "source": [
    "# Dropping unnamed columns and Rank and Value columns since it is unknown its value on the training dataset\n",
    "df_new.drop(columns=df_new.columns[-7:], inplace=True)\n",
    "# Dropping columns that already were eliminated on the training dataset\n",
    "df_new.drop(columns=['first_name', 'last_name', 'country', 'deceased_indicator',\n",
    "                     'tenure', 'postcode', 'job_title'], inplace=True)"
   ]
  },
  {
   "cell_type": "markdown",
   "metadata": {},
   "source": [
    "### Datetime variables"
   ]
  },
  {
   "cell_type": "markdown",
   "metadata": {},
   "source": [
    "##### Error and missing values"
   ]
  },
  {
   "cell_type": "code",
   "execution_count": 72,
   "metadata": {
    "scrolled": true
   },
   "outputs": [
    {
     "data": {
      "text/plain": [
       "array([1938., 1939., 1940., 1941., 1942., 1943., 1944., 1945., 1946.,\n",
       "       1947., 1948., 1949., 1950., 1951., 1952., 1953., 1954., 1955.,\n",
       "       1956., 1957., 1958., 1959., 1960., 1961., 1962., 1963., 1964.,\n",
       "       1965., 1966., 1967., 1968., 1969., 1970., 1971., 1972., 1973.,\n",
       "       1974., 1975., 1976., 1977., 1978., 1979., 1980., 1981., 1982.,\n",
       "       1983., 1984., 1985., 1986., 1987., 1988., 1989., 1990., 1991.,\n",
       "       1992., 1993., 1994., 1995., 1996., 1997., 1998., 1999., 2000.,\n",
       "       2001., 2002.,   nan])"
      ]
     },
     "execution_count": 72,
     "metadata": {},
     "output_type": "execute_result"
    }
   ],
   "source": [
    "# Is there any outlier/error?\n",
    "df_new.DOB.dt.year.sort_values().unique()"
   ]
  },
  {
   "cell_type": "markdown",
   "metadata": {},
   "source": [
    "##### Drop DOB error value"
   ]
  },
  {
   "cell_type": "code",
   "execution_count": 73,
   "metadata": {},
   "outputs": [
    {
     "data": {
      "text/html": [
       "<div>\n",
       "<style scoped>\n",
       "    .dataframe tbody tr th:only-of-type {\n",
       "        vertical-align: middle;\n",
       "    }\n",
       "\n",
       "    .dataframe tbody tr th {\n",
       "        vertical-align: top;\n",
       "    }\n",
       "\n",
       "    .dataframe thead th {\n",
       "        text-align: right;\n",
       "    }\n",
       "</style>\n",
       "<table border=\"1\" class=\"dataframe\">\n",
       "  <thead>\n",
       "    <tr style=\"text-align: right;\">\n",
       "      <th></th>\n",
       "      <th>gender</th>\n",
       "      <th>past_3_years_bike_related_purchases</th>\n",
       "      <th>DOB</th>\n",
       "      <th>job_industry_category</th>\n",
       "      <th>wealth_segment</th>\n",
       "      <th>owns_car</th>\n",
       "      <th>address</th>\n",
       "      <th>state</th>\n",
       "      <th>property_valuation</th>\n",
       "    </tr>\n",
       "  </thead>\n",
       "  <tbody>\n",
       "    <tr>\n",
       "      <th>59</th>\n",
       "      <td>U</td>\n",
       "      <td>5</td>\n",
       "      <td>NaT</td>\n",
       "      <td>IT</td>\n",
       "      <td>Mass Customer</td>\n",
       "      <td>No</td>\n",
       "      <td>7232 Fulton Parkway</td>\n",
       "      <td>VIC</td>\n",
       "      <td>5</td>\n",
       "    </tr>\n",
       "    <tr>\n",
       "      <th>226</th>\n",
       "      <td>U</td>\n",
       "      <td>35</td>\n",
       "      <td>NaT</td>\n",
       "      <td>IT</td>\n",
       "      <td>Affluent Customer</td>\n",
       "      <td>Yes</td>\n",
       "      <td>6 Iowa Center</td>\n",
       "      <td>NSW</td>\n",
       "      <td>9</td>\n",
       "    </tr>\n",
       "    <tr>\n",
       "      <th>324</th>\n",
       "      <td>U</td>\n",
       "      <td>69</td>\n",
       "      <td>NaT</td>\n",
       "      <td>IT</td>\n",
       "      <td>Mass Customer</td>\n",
       "      <td>Yes</td>\n",
       "      <td>57025 New Castle Street</td>\n",
       "      <td>VIC</td>\n",
       "      <td>3</td>\n",
       "    </tr>\n",
       "    <tr>\n",
       "      <th>358</th>\n",
       "      <td>U</td>\n",
       "      <td>65</td>\n",
       "      <td>NaT</td>\n",
       "      <td>Entertainment</td>\n",
       "      <td>Affluent Customer</td>\n",
       "      <td>No</td>\n",
       "      <td>78 Clarendon Drive</td>\n",
       "      <td>QLD</td>\n",
       "      <td>8</td>\n",
       "    </tr>\n",
       "    <tr>\n",
       "      <th>360</th>\n",
       "      <td>U</td>\n",
       "      <td>71</td>\n",
       "      <td>NaT</td>\n",
       "      <td>IT</td>\n",
       "      <td>Mass Customer</td>\n",
       "      <td>Yes</td>\n",
       "      <td>5675 Burning Wood Trail</td>\n",
       "      <td>VIC</td>\n",
       "      <td>7</td>\n",
       "    </tr>\n",
       "    <tr>\n",
       "      <th>374</th>\n",
       "      <td>U</td>\n",
       "      <td>66</td>\n",
       "      <td>NaT</td>\n",
       "      <td>IT</td>\n",
       "      <td>Mass Customer</td>\n",
       "      <td>No</td>\n",
       "      <td>5773 Acker Way</td>\n",
       "      <td>QLD</td>\n",
       "      <td>6</td>\n",
       "    </tr>\n",
       "    <tr>\n",
       "      <th>434</th>\n",
       "      <td>U</td>\n",
       "      <td>52</td>\n",
       "      <td>NaT</td>\n",
       "      <td>IT</td>\n",
       "      <td>Mass Customer</td>\n",
       "      <td>No</td>\n",
       "      <td>72423 Surrey Street</td>\n",
       "      <td>VIC</td>\n",
       "      <td>5</td>\n",
       "    </tr>\n",
       "    <tr>\n",
       "      <th>439</th>\n",
       "      <td>U</td>\n",
       "      <td>93</td>\n",
       "      <td>NaT</td>\n",
       "      <td>IT</td>\n",
       "      <td>Mass Customer</td>\n",
       "      <td>Yes</td>\n",
       "      <td>3686 Waubesa Way</td>\n",
       "      <td>VIC</td>\n",
       "      <td>6</td>\n",
       "    </tr>\n",
       "    <tr>\n",
       "      <th>574</th>\n",
       "      <td>U</td>\n",
       "      <td>69</td>\n",
       "      <td>NaT</td>\n",
       "      <td>IT</td>\n",
       "      <td>Mass Customer</td>\n",
       "      <td>No</td>\n",
       "      <td>0307 Namekagon Crossing</td>\n",
       "      <td>NSW</td>\n",
       "      <td>7</td>\n",
       "    </tr>\n",
       "    <tr>\n",
       "      <th>598</th>\n",
       "      <td>U</td>\n",
       "      <td>15</td>\n",
       "      <td>NaT</td>\n",
       "      <td>IT</td>\n",
       "      <td>Affluent Customer</td>\n",
       "      <td>No</td>\n",
       "      <td>882 Toban Lane</td>\n",
       "      <td>NSW</td>\n",
       "      <td>11</td>\n",
       "    </tr>\n",
       "    <tr>\n",
       "      <th>664</th>\n",
       "      <td>U</td>\n",
       "      <td>43</td>\n",
       "      <td>NaT</td>\n",
       "      <td>IT</td>\n",
       "      <td>High Net Worth</td>\n",
       "      <td>Yes</td>\n",
       "      <td>5 Red Cloud Place</td>\n",
       "      <td>VIC</td>\n",
       "      <td>4</td>\n",
       "    </tr>\n",
       "    <tr>\n",
       "      <th>751</th>\n",
       "      <td>U</td>\n",
       "      <td>20</td>\n",
       "      <td>NaT</td>\n",
       "      <td>IT</td>\n",
       "      <td>High Net Worth</td>\n",
       "      <td>Yes</td>\n",
       "      <td>82 Gina Junction</td>\n",
       "      <td>VIC</td>\n",
       "      <td>7</td>\n",
       "    </tr>\n",
       "    <tr>\n",
       "      <th>775</th>\n",
       "      <td>U</td>\n",
       "      <td>62</td>\n",
       "      <td>NaT</td>\n",
       "      <td>Financial Services</td>\n",
       "      <td>Affluent Customer</td>\n",
       "      <td>No</td>\n",
       "      <td>95960 Warner Parkway</td>\n",
       "      <td>VIC</td>\n",
       "      <td>1</td>\n",
       "    </tr>\n",
       "    <tr>\n",
       "      <th>835</th>\n",
       "      <td>U</td>\n",
       "      <td>88</td>\n",
       "      <td>NaT</td>\n",
       "      <td>IT</td>\n",
       "      <td>Mass Customer</td>\n",
       "      <td>No</td>\n",
       "      <td>768 Southridge Drive</td>\n",
       "      <td>NSW</td>\n",
       "      <td>11</td>\n",
       "    </tr>\n",
       "    <tr>\n",
       "      <th>883</th>\n",
       "      <td>U</td>\n",
       "      <td>24</td>\n",
       "      <td>NaT</td>\n",
       "      <td>IT</td>\n",
       "      <td>Affluent Customer</td>\n",
       "      <td>No</td>\n",
       "      <td>01 Bunker Hill Drive</td>\n",
       "      <td>NSW</td>\n",
       "      <td>10</td>\n",
       "    </tr>\n",
       "    <tr>\n",
       "      <th>904</th>\n",
       "      <td>U</td>\n",
       "      <td>0</td>\n",
       "      <td>NaT</td>\n",
       "      <td>IT</td>\n",
       "      <td>Mass Customer</td>\n",
       "      <td>No</td>\n",
       "      <td>276 Anthes Court</td>\n",
       "      <td>NSW</td>\n",
       "      <td>6</td>\n",
       "    </tr>\n",
       "    <tr>\n",
       "      <th>984</th>\n",
       "      <td>U</td>\n",
       "      <td>82</td>\n",
       "      <td>NaT</td>\n",
       "      <td>IT</td>\n",
       "      <td>Affluent Customer</td>\n",
       "      <td>Yes</td>\n",
       "      <td>9594 Badeau Street</td>\n",
       "      <td>NSW</td>\n",
       "      <td>10</td>\n",
       "    </tr>\n",
       "  </tbody>\n",
       "</table>\n",
       "</div>"
      ],
      "text/plain": [
       "    gender  past_3_years_bike_related_purchases DOB job_industry_category  \\\n",
       "59       U                                    5 NaT                    IT   \n",
       "226      U                                   35 NaT                    IT   \n",
       "324      U                                   69 NaT                    IT   \n",
       "358      U                                   65 NaT         Entertainment   \n",
       "360      U                                   71 NaT                    IT   \n",
       "374      U                                   66 NaT                    IT   \n",
       "434      U                                   52 NaT                    IT   \n",
       "439      U                                   93 NaT                    IT   \n",
       "574      U                                   69 NaT                    IT   \n",
       "598      U                                   15 NaT                    IT   \n",
       "664      U                                   43 NaT                    IT   \n",
       "751      U                                   20 NaT                    IT   \n",
       "775      U                                   62 NaT    Financial Services   \n",
       "835      U                                   88 NaT                    IT   \n",
       "883      U                                   24 NaT                    IT   \n",
       "904      U                                    0 NaT                    IT   \n",
       "984      U                                   82 NaT                    IT   \n",
       "\n",
       "        wealth_segment owns_car                  address state  \\\n",
       "59       Mass Customer       No      7232 Fulton Parkway   VIC   \n",
       "226  Affluent Customer      Yes            6 Iowa Center   NSW   \n",
       "324      Mass Customer      Yes  57025 New Castle Street   VIC   \n",
       "358  Affluent Customer       No       78 Clarendon Drive   QLD   \n",
       "360      Mass Customer      Yes  5675 Burning Wood Trail   VIC   \n",
       "374      Mass Customer       No           5773 Acker Way   QLD   \n",
       "434      Mass Customer       No      72423 Surrey Street   VIC   \n",
       "439      Mass Customer      Yes         3686 Waubesa Way   VIC   \n",
       "574      Mass Customer       No  0307 Namekagon Crossing   NSW   \n",
       "598  Affluent Customer       No           882 Toban Lane   NSW   \n",
       "664     High Net Worth      Yes        5 Red Cloud Place   VIC   \n",
       "751     High Net Worth      Yes         82 Gina Junction   VIC   \n",
       "775  Affluent Customer       No     95960 Warner Parkway   VIC   \n",
       "835      Mass Customer       No     768 Southridge Drive   NSW   \n",
       "883  Affluent Customer       No     01 Bunker Hill Drive   NSW   \n",
       "904      Mass Customer       No         276 Anthes Court   NSW   \n",
       "984  Affluent Customer      Yes       9594 Badeau Street   NSW   \n",
       "\n",
       "     property_valuation  \n",
       "59                    5  \n",
       "226                   9  \n",
       "324                   3  \n",
       "358                   8  \n",
       "360                   7  \n",
       "374                   6  \n",
       "434                   5  \n",
       "439                   6  \n",
       "574                   7  \n",
       "598                  11  \n",
       "664                   4  \n",
       "751                   7  \n",
       "775                   1  \n",
       "835                  11  \n",
       "883                  10  \n",
       "904                   6  \n",
       "984                  10  "
      ]
     },
     "execution_count": 73,
     "metadata": {},
     "output_type": "execute_result"
    }
   ],
   "source": [
    "#Overview\n",
    "df_new.loc[df_new.DOB.isna()]"
   ]
  },
  {
   "cell_type": "code",
   "execution_count": 74,
   "metadata": {},
   "outputs": [],
   "source": [
    "# Drop since it is just one value\n",
    "df_new.drop(df_new.index[df_new.DOB.isna()], inplace = True)\n",
    "# Reset indexes\n",
    "df_new.reset_index(drop=True, inplace=True)"
   ]
  },
  {
   "cell_type": "markdown",
   "metadata": {},
   "source": [
    "##### Create Age feature and drop DOB"
   ]
  },
  {
   "cell_type": "code",
   "execution_count": 75,
   "metadata": {},
   "outputs": [],
   "source": [
    "# Age feature\n",
    "df_new['Age'] = (datetime.datetime.today().year-df_new.DOB.dt.year).values\n",
    "\n",
    "# Drop DOB\n",
    "df_new.drop(columns=['DOB'], inplace=True)"
   ]
  },
  {
   "cell_type": "markdown",
   "metadata": {},
   "source": [
    "### Categorical Data"
   ]
  },
  {
   "cell_type": "code",
   "execution_count": 76,
   "metadata": {
    "scrolled": true
   },
   "outputs": [
    {
     "name": "stdout",
     "output_type": "stream",
     "text": [
      "GENDER\n",
      "['Male' 'Female'] \n",
      "\n",
      "WEALTH_SEGMENT\n",
      "['Mass Customer' 'Affluent Customer' 'High Net Worth'] \n",
      "\n",
      "OWNS_CAR\n",
      "['Yes' 'No'] \n",
      "\n",
      "STATE\n",
      "['QLD' 'NSW' 'VIC'] \n",
      "\n"
     ]
    }
   ],
   "source": [
    "# Classes\n",
    "cat = ['gender', 'wealth_segment', 'owns_car', 'state']\n",
    "for col in cat:\n",
    "    print(col.upper())\n",
    "    print(df_new[col].unique(),'\\n')"
   ]
  },
  {
   "cell_type": "markdown",
   "metadata": {},
   "source": [
    "##### Gender: class name consistency"
   ]
  },
  {
   "cell_type": "code",
   "execution_count": 77,
   "metadata": {},
   "outputs": [],
   "source": [
    "# Replace Female and Male by F and M respectively\n",
    "df_new.gender = df_new.gender.replace(to_replace='Female', value='F')\n",
    "df_new.gender = df_new.gender.replace(to_replace='Male', value='M')"
   ]
  },
  {
   "cell_type": "code",
   "execution_count": 78,
   "metadata": {},
   "outputs": [
    {
     "data": {
      "text/plain": [
       "F    513\n",
       "M    470\n",
       "Name: gender, dtype: int64"
      ]
     },
     "execution_count": 78,
     "metadata": {},
     "output_type": "execute_result"
    }
   ],
   "source": [
    "df_new.gender.value_counts()"
   ]
  },
  {
   "cell_type": "markdown",
   "metadata": {},
   "source": [
    "##### Job features classes"
   ]
  },
  {
   "cell_type": "code",
   "execution_count": 79,
   "metadata": {
    "scrolled": true
   },
   "outputs": [
    {
     "data": {
      "text/plain": [
       "['Manufacturing',\n",
       " 'Property',\n",
       " 'Financial Services',\n",
       " 'Entertainment',\n",
       " 'Retail',\n",
       " 'IT',\n",
       " 'Telecommunications',\n",
       " 'Health',\n",
       " nan,\n",
       " 'Argiculture']"
      ]
     },
     "execution_count": 79,
     "metadata": {},
     "output_type": "execute_result"
    }
   ],
   "source": [
    "df_new.job_industry_category.unique().tolist()"
   ]
  },
  {
   "cell_type": "code",
   "execution_count": 80,
   "metadata": {},
   "outputs": [],
   "source": [
    "# Fill missing values with a generic class\n",
    "df_new.job_industry_category.fillna(\"n/a\", inplace=True)\n",
    "\n",
    "# Replace typo\n",
    "df_new.job_industry_category = df_new.job_industry_category.replace(to_replace='Argiculture', value='Agriculture')"
   ]
  },
  {
   "cell_type": "markdown",
   "metadata": {},
   "source": [
    "### Numerical variables"
   ]
  },
  {
   "cell_type": "code",
   "execution_count": 81,
   "metadata": {
    "scrolled": false
   },
   "outputs": [
    {
     "data": {
      "text/html": [
       "<div>\n",
       "<style scoped>\n",
       "    .dataframe tbody tr th:only-of-type {\n",
       "        vertical-align: middle;\n",
       "    }\n",
       "\n",
       "    .dataframe tbody tr th {\n",
       "        vertical-align: top;\n",
       "    }\n",
       "\n",
       "    .dataframe thead th {\n",
       "        text-align: right;\n",
       "    }\n",
       "</style>\n",
       "<table border=\"1\" class=\"dataframe\">\n",
       "  <thead>\n",
       "    <tr style=\"text-align: right;\">\n",
       "      <th></th>\n",
       "      <th>past_3_years_bike_related_purchases</th>\n",
       "      <th>property_valuation</th>\n",
       "      <th>Age</th>\n",
       "    </tr>\n",
       "  </thead>\n",
       "  <tbody>\n",
       "    <tr>\n",
       "      <th>count</th>\n",
       "      <td>983.000000</td>\n",
       "      <td>983.000000</td>\n",
       "      <td>983.000000</td>\n",
       "    </tr>\n",
       "    <tr>\n",
       "      <th>mean</th>\n",
       "      <td>49.824008</td>\n",
       "      <td>7.406918</td>\n",
       "      <td>50.206511</td>\n",
       "    </tr>\n",
       "    <tr>\n",
       "      <th>std</th>\n",
       "      <td>27.786108</td>\n",
       "      <td>2.758293</td>\n",
       "      <td>17.074268</td>\n",
       "    </tr>\n",
       "    <tr>\n",
       "      <th>min</th>\n",
       "      <td>0.000000</td>\n",
       "      <td>1.000000</td>\n",
       "      <td>19.000000</td>\n",
       "    </tr>\n",
       "    <tr>\n",
       "      <th>25%</th>\n",
       "      <td>27.000000</td>\n",
       "      <td>6.000000</td>\n",
       "      <td>38.000000</td>\n",
       "    </tr>\n",
       "    <tr>\n",
       "      <th>50%</th>\n",
       "      <td>51.000000</td>\n",
       "      <td>8.000000</td>\n",
       "      <td>49.000000</td>\n",
       "    </tr>\n",
       "    <tr>\n",
       "      <th>75%</th>\n",
       "      <td>72.000000</td>\n",
       "      <td>9.000000</td>\n",
       "      <td>64.000000</td>\n",
       "    </tr>\n",
       "    <tr>\n",
       "      <th>max</th>\n",
       "      <td>99.000000</td>\n",
       "      <td>12.000000</td>\n",
       "      <td>83.000000</td>\n",
       "    </tr>\n",
       "  </tbody>\n",
       "</table>\n",
       "</div>"
      ],
      "text/plain": [
       "       past_3_years_bike_related_purchases  property_valuation         Age\n",
       "count                           983.000000          983.000000  983.000000\n",
       "mean                             49.824008            7.406918   50.206511\n",
       "std                              27.786108            2.758293   17.074268\n",
       "min                               0.000000            1.000000   19.000000\n",
       "25%                              27.000000            6.000000   38.000000\n",
       "50%                              51.000000            8.000000   49.000000\n",
       "75%                              72.000000            9.000000   64.000000\n",
       "max                              99.000000           12.000000   83.000000"
      ]
     },
     "execution_count": 81,
     "metadata": {},
     "output_type": "execute_result"
    }
   ],
   "source": [
    "# Description\n",
    "df_new.describe()"
   ]
  },
  {
   "cell_type": "code",
   "execution_count": 82,
   "metadata": {},
   "outputs": [
    {
     "data": {
      "image/png": "[encoded data removed]",
      "text/plain": [
       "<Figure size 1080x648 with 3 Axes>"
      ]
     },
     "metadata": {
      "needs_background": "light"
     },
     "output_type": "display_data"
    }
   ],
   "source": [
    "# Distributions\n",
    "import matplotlib.pyplot as plt\n",
    "plt.figure(figsize = (15,9))\n",
    "plt.subplot(3,1,1); plt.title('past_3_years_bike_related_purchases')\n",
    "df_new.past_3_years_bike_related_purchases.hist()\n",
    "plt.subplot(3,1,2); plt.title('property_valuation')\n",
    "df_new.property_valuation.hist()\n",
    "plt.subplot(3,1,3); plt.title('Age')\n",
    "df_new.Age.hist()\n",
    "plt.show()"
   ]
  },
  {
   "cell_type": "markdown",
   "metadata": {},
   "source": [
    "##### Address differentiation or drop since it do no interfere on the analysis"
   ]
  },
  {
   "cell_type": "code",
   "execution_count": 83,
   "metadata": {
    "scrolled": true
   },
   "outputs": [],
   "source": [
    "# # Address type of road, street, avenue...\n",
    "# df_new['addr_type'] = df_new.address.apply(lambda x: x.split()[-1])\n",
    "# df_new.addr_type.unique()"
   ]
  },
  {
   "cell_type": "code",
   "execution_count": 84,
   "metadata": {},
   "outputs": [],
   "source": [
    "# # Address street number or apartment number\n",
    "# df_new['addr_number'] = df_new.address.apply(lambda x: x.split()[0])\n",
    "\n",
    "# Uncomment to watch a complete list of all the numbers and check if they are all numbers\n",
    "# df_address.addr_number.unique().tolist()"
   ]
  },
  {
   "cell_type": "code",
   "execution_count": 85,
   "metadata": {},
   "outputs": [],
   "source": [
    "# # Address name\n",
    "# df_new['addr_name'] = df_new.address.apply(lambda x: \" \".join(x.split()[1:-1]))"
   ]
  },
  {
   "cell_type": "code",
   "execution_count": 86,
   "metadata": {
    "scrolled": false
   },
   "outputs": [],
   "source": [
    "# Drop previous address column\n",
    "df_new.drop(columns=['address'], inplace = True)"
   ]
  },
  {
   "cell_type": "markdown",
   "metadata": {},
   "source": [
    "_________"
   ]
  },
  {
   "cell_type": "markdown",
   "metadata": {},
   "source": [
    "# Analysis"
   ]
  },
  {
   "cell_type": "markdown",
   "metadata": {},
   "source": [
    "##### Which products are the most sold?"
   ]
  },
  {
   "cell_type": "code",
   "execution_count": 87,
   "metadata": {},
   "outputs": [
    {
     "name": "stdout",
     "output_type": "stream",
     "text": [
      "BRAND\n",
      "Solex             4171\n",
      "Giant Bicycles    3236\n",
      "WeareA2B          3203\n",
      "OHM Cycles        2976\n",
      "Trek Bicycles     2914\n",
      "Norco Bicycles    2827\n",
      "Name: brand, dtype: int64 \n",
      "\n",
      "PRODUCT_LINE\n",
      "Standard    13851\n",
      "Road         3871\n",
      "Touring      1193\n",
      "Mountain      412\n",
      "Name: product_line, dtype: int64 \n",
      "\n",
      "PRODUCT_CLASS\n",
      "medium    13477\n",
      "high       2945\n",
      "low        2905\n",
      "Name: product_class, dtype: int64 \n",
      "\n",
      "PRODUCT_SIZE\n",
      "medium    12685\n",
      "large      3880\n",
      "small      2762\n",
      "Name: product_size, dtype: int64 \n",
      "\n"
     ]
    }
   ],
   "source": [
    "aux = ['brand', 'product_line', 'product_class', 'product_size']\n",
    "for cat in aux:\n",
    "    print(cat.upper())\n",
    "    print(df_transactions[cat].value_counts(),'\\n')"
   ]
  },
  {
   "cell_type": "code",
   "execution_count": 89,
   "metadata": {
    "scrolled": false
   },
   "outputs": [
    {
     "data": {
      "text/plain": [
       "brand           product_line  product_class  product_size\n",
       "Solex           Standard      medium         medium          1988\n",
       "WeareA2B        Standard      medium         medium          1891\n",
       "OHM Cycles      Standard      medium         medium          1047\n",
       "Giant Bicycles  Standard      medium         medium           789\n",
       "                                             large            755\n",
       "Trek Bicycles   Standard      medium         large            659\n",
       "Norco Bicycles  Standard      medium         medium           581\n",
       "Giant Bicycles  Standard      high           medium           577\n",
       "OHM Cycles      Standard      high           medium           569\n",
       "Norco Bicycles  Road          medium         medium           499\n",
       "dtype: int64"
      ]
     },
     "execution_count": 89,
     "metadata": {},
     "output_type": "execute_result"
    }
   ],
   "source": [
    "df_transactions.groupby(aux).size().sort_values(ascending=False)[:10]"
   ]
  },
  {
   "cell_type": "code",
   "execution_count": 90,
   "metadata": {
    "scrolled": true
   },
   "outputs": [
    {
     "data": {
      "text/plain": [
       "brand           product_line  product_class  product_size\n",
       "Solex           Standard      medium         medium          1009\n",
       "WeareA2B        Standard      medium         medium           958\n",
       "OHM Cycles      Standard      medium         medium           516\n",
       "Giant Bicycles  Standard      medium         medium           400\n",
       "                                             large            387\n",
       "Trek Bicycles   Standard      medium         large            348\n",
       "Norco Bicycles  Standard      medium         medium           303\n",
       "OHM Cycles      Standard      high           medium           265\n",
       "Giant Bicycles  Standard      high           medium           265\n",
       "Norco Bicycles  Road          medium         medium           261\n",
       "dtype: int64"
      ]
     },
     "execution_count": 90,
     "metadata": {},
     "output_type": "execute_result"
    }
   ],
   "source": [
    "df_transactions.loc[df_transactions.online_order==0.0].groupby(aux).size().sort_values(ascending=False)[:10]"
   ]
  },
  {
   "cell_type": "code",
   "execution_count": 91,
   "metadata": {},
   "outputs": [],
   "source": [
    "df_transactions.drop(columns=aux, inplace = True)"
   ]
  },
  {
   "cell_type": "markdown",
   "metadata": {},
   "source": [
    "##### How are features distributed?"
   ]
  },
  {
   "cell_type": "code",
   "execution_count": 92,
   "metadata": {},
   "outputs": [
    {
     "data": {
      "image/png": "[encoded data removed]",
      "text/plain": [
       "<Figure size 1440x1440 with 6 Axes>"
      ]
     },
     "metadata": {},
     "output_type": "display_data"
    }
   ],
   "source": [
    "# Pie plots of categorical features\n",
    "plt.subplots(nrows=3, ncols=2, figsize=(20,20))\n",
    "for ind, cat in enumerate(['state', 'wealth_segment', 'job_industry_category', 'gender', 'owns_car','wealth_segment']):\n",
    "    plt.subplot(3,2,ind+1)\n",
    "    # plt.title(cat)\n",
    "    aux = customer_list[cat].value_counts()\n",
    "    explode=[0]*len(aux); explode[0]=0.15\n",
    "    plt.pie(aux, labels=aux.index, shadow=True, explode=explode, autopct='%1.1f%%')\n",
    "plt.show()"
   ]
  },
  {
   "cell_type": "markdown",
   "metadata": {},
   "source": [
    "##### Age and property valuation distribution"
   ]
  },
  {
   "cell_type": "code",
   "execution_count": 93,
   "metadata": {
    "scrolled": true
   },
   "outputs": [
    {
     "data": {
      "image/png": "[encoded data removed]",
      "text/plain": [
       "<Figure size 576x360 with 1 Axes>"
      ]
     },
     "metadata": {
      "needs_background": "light"
     },
     "output_type": "display_data"
    }
   ],
   "source": [
    "plt.figure(figsize=(8,5))\n",
    "sns.distplot(customer_list.Age)\n",
    "plt.show()"
   ]
  },
  {
   "cell_type": "code",
   "execution_count": 95,
   "metadata": {},
   "outputs": [
    {
     "data": {
      "image/png": "[encoded data removed]",
      "text/plain": [
       "<Figure size 432x288 with 1 Axes>"
      ]
     },
     "metadata": {
      "needs_background": "light"
     },
     "output_type": "display_data"
    }
   ],
   "source": [
    "sns.countplot(customer_list.property_valuation)\n",
    "plt.show()"
   ]
  },
  {
   "cell_type": "markdown",
   "metadata": {},
   "source": [
    "______________"
   ]
  },
  {
   "cell_type": "markdown",
   "metadata": {},
   "source": [
    "### What we are looking and how?\n",
    "\n",
    "- Customers:\n",
    "    - that spend money $\\rightarrow$ mean profit by purchase\n",
    "    - that buy a lot $\\rightarrow$ count purchases\n",
    "    - that buy nowadays $\\rightarrow$ last month purchase\n",
    "    - that has bough in the past (interest) $\\rightarrow$ past 3 years purchases\n",
    "    - that do not cancelled the purchase"
   ]
  },
  {
   "cell_type": "markdown",
   "metadata": {},
   "source": [
    "##### Customers expenditure and frequency"
   ]
  },
  {
   "cell_type": "code",
   "execution_count": 94,
   "metadata": {
    "scrolled": false
   },
   "outputs": [],
   "source": [
    "# Mean profit by all customers in the master table\n",
    "customer_list = customer_list.merge(df_transactions[['customer_id', 'profit']].groupby('customer_id', \n",
    "                                                                                       as_index = False).mean(), how='outer')\n",
    "# Name column\n",
    "customer_list.columns=list(customer_list.columns[:-1])+['expenditure']\n",
    "\n",
    "customer_list = customer_list.merge(df_transactions[['customer_id', 'profit']].groupby('customer_id', \n",
    "                                                                                       as_index = False).count(), how='outer')\n",
    "customer_list.columns=list(customer_list.columns[:-1])+['frequency']"
   ]
  },
  {
   "cell_type": "code",
   "execution_count": 95,
   "metadata": {
    "scrolled": false
   },
   "outputs": [
    {
     "data": {
      "text/html": [
       "<div>\n",
       "<style scoped>\n",
       "    .dataframe tbody tr th:only-of-type {\n",
       "        vertical-align: middle;\n",
       "    }\n",
       "\n",
       "    .dataframe tbody tr th {\n",
       "        vertical-align: top;\n",
       "    }\n",
       "\n",
       "    .dataframe thead th {\n",
       "        text-align: right;\n",
       "    }\n",
       "</style>\n",
       "<table border=\"1\" class=\"dataframe\">\n",
       "  <thead>\n",
       "    <tr style=\"text-align: right;\">\n",
       "      <th></th>\n",
       "      <th>expenditure</th>\n",
       "      <th>frequency</th>\n",
       "    </tr>\n",
       "  </thead>\n",
       "  <tbody>\n",
       "    <tr>\n",
       "      <th>count</th>\n",
       "      <td>3412.000000</td>\n",
       "      <td>3412.00000</td>\n",
       "    </tr>\n",
       "    <tr>\n",
       "      <th>mean</th>\n",
       "      <td>549.059643</td>\n",
       "      <td>5.66442</td>\n",
       "    </tr>\n",
       "    <tr>\n",
       "      <th>std</th>\n",
       "      <td>236.941969</td>\n",
       "      <td>2.31148</td>\n",
       "    </tr>\n",
       "    <tr>\n",
       "      <th>min</th>\n",
       "      <td>15.080000</td>\n",
       "      <td>1.00000</td>\n",
       "    </tr>\n",
       "    <tr>\n",
       "      <th>25%</th>\n",
       "      <td>384.636250</td>\n",
       "      <td>4.00000</td>\n",
       "    </tr>\n",
       "    <tr>\n",
       "      <th>50%</th>\n",
       "      <td>530.236667</td>\n",
       "      <td>6.00000</td>\n",
       "    </tr>\n",
       "    <tr>\n",
       "      <th>75%</th>\n",
       "      <td>695.196500</td>\n",
       "      <td>7.00000</td>\n",
       "    </tr>\n",
       "    <tr>\n",
       "      <th>max</th>\n",
       "      <td>1702.550000</td>\n",
       "      <td>14.00000</td>\n",
       "    </tr>\n",
       "  </tbody>\n",
       "</table>\n",
       "</div>"
      ],
      "text/plain": [
       "       expenditure   frequency\n",
       "count  3412.000000  3412.00000\n",
       "mean    549.059643     5.66442\n",
       "std     236.941969     2.31148\n",
       "min      15.080000     1.00000\n",
       "25%     384.636250     4.00000\n",
       "50%     530.236667     6.00000\n",
       "75%     695.196500     7.00000\n",
       "max    1702.550000    14.00000"
      ]
     },
     "execution_count": 95,
     "metadata": {},
     "output_type": "execute_result"
    }
   ],
   "source": [
    "# Percentiles\n",
    "customer_list.iloc[:,-2:].describe()"
   ]
  },
  {
   "cell_type": "code",
   "execution_count": 96,
   "metadata": {},
   "outputs": [],
   "source": [
    "# Categorize features according to percentiles\n",
    "customer_list['expenditure'] = pd.qcut(customer_list.expenditure, 4, labels=[1, 2, 3, 4])\n",
    "customer_list['frequency'] = pd.qcut(customer_list.frequency, 4, labels=[1, 2, 3, 4])"
   ]
  },
  {
   "cell_type": "markdown",
   "metadata": {},
   "source": [
    "##### Customers last purchase and number of past purchases"
   ]
  },
  {
   "cell_type": "code",
   "execution_count": 97,
   "metadata": {},
   "outputs": [],
   "source": [
    "customer_list = customer_list.merge(df_transactions[['customer_id', 'month']].groupby('customer_id', \n",
    "                                                                                       as_index = False).max(), how='outer')\n",
    "customer_list.columns=list(customer_list.columns[:-1])+['activity']"
   ]
  },
  {
   "cell_type": "code",
   "execution_count": 98,
   "metadata": {
    "scrolled": true
   },
   "outputs": [
    {
     "data": {
      "text/html": [
       "<div>\n",
       "<style scoped>\n",
       "    .dataframe tbody tr th:only-of-type {\n",
       "        vertical-align: middle;\n",
       "    }\n",
       "\n",
       "    .dataframe tbody tr th {\n",
       "        vertical-align: top;\n",
       "    }\n",
       "\n",
       "    .dataframe thead th {\n",
       "        text-align: right;\n",
       "    }\n",
       "</style>\n",
       "<table border=\"1\" class=\"dataframe\">\n",
       "  <thead>\n",
       "    <tr style=\"text-align: right;\">\n",
       "      <th></th>\n",
       "      <th>past_3_years_bike_related_purchases</th>\n",
       "      <th>activity</th>\n",
       "    </tr>\n",
       "  </thead>\n",
       "  <tbody>\n",
       "    <tr>\n",
       "      <th>count</th>\n",
       "      <td>3908.000000</td>\n",
       "      <td>3412.000000</td>\n",
       "    </tr>\n",
       "    <tr>\n",
       "      <th>mean</th>\n",
       "      <td>49.030194</td>\n",
       "      <td>10.412954</td>\n",
       "    </tr>\n",
       "    <tr>\n",
       "      <th>std</th>\n",
       "      <td>28.778157</td>\n",
       "      <td>1.900882</td>\n",
       "    </tr>\n",
       "    <tr>\n",
       "      <th>min</th>\n",
       "      <td>0.000000</td>\n",
       "      <td>1.000000</td>\n",
       "    </tr>\n",
       "    <tr>\n",
       "      <th>25%</th>\n",
       "      <td>24.000000</td>\n",
       "      <td>10.000000</td>\n",
       "    </tr>\n",
       "    <tr>\n",
       "      <th>50%</th>\n",
       "      <td>48.000000</td>\n",
       "      <td>11.000000</td>\n",
       "    </tr>\n",
       "    <tr>\n",
       "      <th>75%</th>\n",
       "      <td>73.000000</td>\n",
       "      <td>12.000000</td>\n",
       "    </tr>\n",
       "    <tr>\n",
       "      <th>max</th>\n",
       "      <td>99.000000</td>\n",
       "      <td>12.000000</td>\n",
       "    </tr>\n",
       "  </tbody>\n",
       "</table>\n",
       "</div>"
      ],
      "text/plain": [
       "       past_3_years_bike_related_purchases     activity\n",
       "count                          3908.000000  3412.000000\n",
       "mean                             49.030194    10.412954\n",
       "std                              28.778157     1.900882\n",
       "min                               0.000000     1.000000\n",
       "25%                              24.000000    10.000000\n",
       "50%                              48.000000    11.000000\n",
       "75%                              73.000000    12.000000\n",
       "max                              99.000000    12.000000"
      ]
     },
     "execution_count": 98,
     "metadata": {},
     "output_type": "execute_result"
    }
   ],
   "source": [
    "customer_list[['past_3_years_bike_related_purchases', 'activity']].describe()"
   ]
  },
  {
   "cell_type": "code",
   "execution_count": 99,
   "metadata": {},
   "outputs": [],
   "source": [
    "customer_list['past'] = pd.qcut(customer_list.past_3_years_bike_related_purchases, 4, labels=[1, 2, 3, 4])\n",
    "customer_list.drop(columns='past_3_years_bike_related_purchases', inplace=True)"
   ]
  },
  {
   "cell_type": "code",
   "execution_count": 101,
   "metadata": {},
   "outputs": [],
   "source": [
    "# Create status column\n",
    "customer_list['status'] = ['inactive']*customer_list.shape[0]\n",
    "\n",
    "# Activity percentiles shows that almost all the clients has bought recently. Therefore, instead of classifying according to \n",
    "# the last time they bough, it could be used classified according to the wealt segment if the client is, active, inactive, lost.\n",
    "customer_list.loc[(customer_list.wealth_segment=='Mass Customer') & (customer_list.activity<=3), 'status'] = \\\n",
    "customer_list.loc[(customer_list.wealth_segment=='Mass Customer') & (customer_list.activity<=3), 'status'].replace('inactive',\n",
    "                                                                                                                  value='lost')\n",
    "customer_list.loc[(customer_list.wealth_segment=='Mass Customer') & (customer_list.activity>8), 'status'] = \\\n",
    "customer_list.loc[(customer_list.wealth_segment=='Mass Customer') & (customer_list.activity>8), 'status'].replace('inactive',\n",
    "                                                                                                                value='active')\n",
    "\n",
    "customer_list.loc[(customer_list.wealth_segment=='Affluent Customer') & (customer_list.activity<=5), 'status'] = \\\n",
    "customer_list.loc[(customer_list.wealth_segment=='Affluent Customer') & (customer_list.activity<=5), 'status'].replace(\\\n",
    "                                                                                                                'inactive',\n",
    "                                                                                                                value='lost')\n",
    "customer_list.loc[(customer_list.wealth_segment=='Affluent Customer') & (customer_list.activity>9), 'status'] = \\\n",
    "customer_list.loc[(customer_list.wealth_segment=='Affluent Customer') & (customer_list.activity>9), 'status'].replace(\\\n",
    "                                                                                                                'inactive',\n",
    "                                                                                                                value='active')\n",
    "\n",
    "customer_list.loc[(customer_list.wealth_segment=='High Net Worth') & (customer_list.activity<=6), 'status'] = \\\n",
    "customer_list.loc[(customer_list.wealth_segment=='High Net Worth') & (customer_list.activity<=6), 'status'].replace('inactive',\n",
    "                                                                                                                  value='lost')\n",
    "customer_list.loc[(customer_list.wealth_segment=='High Net Worth') & (customer_list.activity>10), 'status'] = \\\n",
    "customer_list.loc[(customer_list.wealth_segment=='High Net Worth') & (customer_list.activity>10), 'status'].replace('inactive',\n",
    "                                                                                                                value='active')"
   ]
  },
  {
   "cell_type": "code",
   "execution_count": 102,
   "metadata": {},
   "outputs": [],
   "source": [
    "# Drop previous column\n",
    "customer_list.drop(columns=['activity'], inplace=True)"
   ]
  },
  {
   "cell_type": "markdown",
   "metadata": {},
   "source": [
    "##### Fila NaNs and drop"
   ]
  },
  {
   "cell_type": "code",
   "execution_count": 103,
   "metadata": {
    "scrolled": false
   },
   "outputs": [
    {
     "data": {
      "text/html": [
       "<div>\n",
       "<style scoped>\n",
       "    .dataframe tbody tr th:only-of-type {\n",
       "        vertical-align: middle;\n",
       "    }\n",
       "\n",
       "    .dataframe tbody tr th {\n",
       "        vertical-align: top;\n",
       "    }\n",
       "\n",
       "    .dataframe thead th {\n",
       "        text-align: right;\n",
       "    }\n",
       "</style>\n",
       "<table border=\"1\" class=\"dataframe\">\n",
       "  <thead>\n",
       "    <tr style=\"text-align: right;\">\n",
       "      <th></th>\n",
       "      <th>customer_id</th>\n",
       "      <th>gender</th>\n",
       "      <th>job_industry_category</th>\n",
       "      <th>wealth_segment</th>\n",
       "      <th>owns_car</th>\n",
       "      <th>Age</th>\n",
       "      <th>state</th>\n",
       "      <th>property_valuation</th>\n",
       "      <th>expenditure</th>\n",
       "      <th>frequency</th>\n",
       "      <th>past</th>\n",
       "      <th>status</th>\n",
       "    </tr>\n",
       "  </thead>\n",
       "  <tbody>\n",
       "    <tr>\n",
       "      <th>0</th>\n",
       "      <td>1</td>\n",
       "      <td>F</td>\n",
       "      <td>Health</td>\n",
       "      <td>Mass Customer</td>\n",
       "      <td>Yes</td>\n",
       "      <td>68</td>\n",
       "      <td>NSW</td>\n",
       "      <td>10</td>\n",
       "      <td>1</td>\n",
       "      <td>4</td>\n",
       "      <td>4</td>\n",
       "      <td>active</td>\n",
       "    </tr>\n",
       "    <tr>\n",
       "      <th>1</th>\n",
       "      <td>2</td>\n",
       "      <td>M</td>\n",
       "      <td>Financial Services</td>\n",
       "      <td>Mass Customer</td>\n",
       "      <td>Yes</td>\n",
       "      <td>41</td>\n",
       "      <td>NSW</td>\n",
       "      <td>10</td>\n",
       "      <td>4</td>\n",
       "      <td>1</td>\n",
       "      <td>4</td>\n",
       "      <td>inactive</td>\n",
       "    </tr>\n",
       "    <tr>\n",
       "      <th>2</th>\n",
       "      <td>4</td>\n",
       "      <td>M</td>\n",
       "      <td>IT</td>\n",
       "      <td>Mass Customer</td>\n",
       "      <td>No</td>\n",
       "      <td>60</td>\n",
       "      <td>QLD</td>\n",
       "      <td>9</td>\n",
       "      <td>1</td>\n",
       "      <td>1</td>\n",
       "      <td>2</td>\n",
       "      <td>inactive</td>\n",
       "    </tr>\n",
       "    <tr>\n",
       "      <th>3</th>\n",
       "      <td>5</td>\n",
       "      <td>F</td>\n",
       "      <td>n/a</td>\n",
       "      <td>Affluent Customer</td>\n",
       "      <td>Yes</td>\n",
       "      <td>44</td>\n",
       "      <td>NSW</td>\n",
       "      <td>4</td>\n",
       "      <td>2</td>\n",
       "      <td>2</td>\n",
       "      <td>3</td>\n",
       "      <td>active</td>\n",
       "    </tr>\n",
       "    <tr>\n",
       "      <th>4</th>\n",
       "      <td>6</td>\n",
       "      <td>M</td>\n",
       "      <td>Retail</td>\n",
       "      <td>High Net Worth</td>\n",
       "      <td>Yes</td>\n",
       "      <td>55</td>\n",
       "      <td>VIC</td>\n",
       "      <td>9</td>\n",
       "      <td>4</td>\n",
       "      <td>2</td>\n",
       "      <td>2</td>\n",
       "      <td>inactive</td>\n",
       "    </tr>\n",
       "    <tr>\n",
       "      <th>...</th>\n",
       "      <td>...</td>\n",
       "      <td>...</td>\n",
       "      <td>...</td>\n",
       "      <td>...</td>\n",
       "      <td>...</td>\n",
       "      <td>...</td>\n",
       "      <td>...</td>\n",
       "      <td>...</td>\n",
       "      <td>...</td>\n",
       "      <td>...</td>\n",
       "      <td>...</td>\n",
       "      <td>...</td>\n",
       "    </tr>\n",
       "    <tr>\n",
       "      <th>3903</th>\n",
       "      <td>3995</td>\n",
       "      <td>M</td>\n",
       "      <td>Manufacturing</td>\n",
       "      <td>Mass Customer</td>\n",
       "      <td>Yes</td>\n",
       "      <td>46</td>\n",
       "      <td>NSW</td>\n",
       "      <td>12</td>\n",
       "      <td>NaN</td>\n",
       "      <td>NaN</td>\n",
       "      <td>4</td>\n",
       "      <td>inactive</td>\n",
       "    </tr>\n",
       "    <tr>\n",
       "      <th>3904</th>\n",
       "      <td>3996</td>\n",
       "      <td>F</td>\n",
       "      <td>Health</td>\n",
       "      <td>Mass Customer</td>\n",
       "      <td>No</td>\n",
       "      <td>46</td>\n",
       "      <td>VIC</td>\n",
       "      <td>6</td>\n",
       "      <td>NaN</td>\n",
       "      <td>NaN</td>\n",
       "      <td>1</td>\n",
       "      <td>inactive</td>\n",
       "    </tr>\n",
       "    <tr>\n",
       "      <th>3905</th>\n",
       "      <td>3997</td>\n",
       "      <td>F</td>\n",
       "      <td>Manufacturing</td>\n",
       "      <td>High Net Worth</td>\n",
       "      <td>Yes</td>\n",
       "      <td>20</td>\n",
       "      <td>NSW</td>\n",
       "      <td>2</td>\n",
       "      <td>NaN</td>\n",
       "      <td>NaN</td>\n",
       "      <td>4</td>\n",
       "      <td>inactive</td>\n",
       "    </tr>\n",
       "    <tr>\n",
       "      <th>3906</th>\n",
       "      <td>3999</td>\n",
       "      <td>M</td>\n",
       "      <td>Manufacturing</td>\n",
       "      <td>Affluent Customer</td>\n",
       "      <td>Yes</td>\n",
       "      <td>48</td>\n",
       "      <td>VIC</td>\n",
       "      <td>3</td>\n",
       "      <td>NaN</td>\n",
       "      <td>NaN</td>\n",
       "      <td>1</td>\n",
       "      <td>inactive</td>\n",
       "    </tr>\n",
       "    <tr>\n",
       "      <th>3907</th>\n",
       "      <td>4000</td>\n",
       "      <td>M</td>\n",
       "      <td>n/a</td>\n",
       "      <td>Affluent Customer</td>\n",
       "      <td>No</td>\n",
       "      <td>30</td>\n",
       "      <td>QLD</td>\n",
       "      <td>6</td>\n",
       "      <td>NaN</td>\n",
       "      <td>NaN</td>\n",
       "      <td>4</td>\n",
       "      <td>inactive</td>\n",
       "    </tr>\n",
       "  </tbody>\n",
       "</table>\n",
       "<p>3908 rows × 12 columns</p>\n",
       "</div>"
      ],
      "text/plain": [
       "      customer_id gender job_industry_category     wealth_segment owns_car  \\\n",
       "0               1      F                Health      Mass Customer      Yes   \n",
       "1               2      M    Financial Services      Mass Customer      Yes   \n",
       "2               4      M                    IT      Mass Customer       No   \n",
       "3               5      F                   n/a  Affluent Customer      Yes   \n",
       "4               6      M                Retail     High Net Worth      Yes   \n",
       "...           ...    ...                   ...                ...      ...   \n",
       "3903         3995      M         Manufacturing      Mass Customer      Yes   \n",
       "3904         3996      F                Health      Mass Customer       No   \n",
       "3905         3997      F         Manufacturing     High Net Worth      Yes   \n",
       "3906         3999      M         Manufacturing  Affluent Customer      Yes   \n",
       "3907         4000      M                   n/a  Affluent Customer       No   \n",
       "\n",
       "      Age state  property_valuation expenditure frequency past    status  \n",
       "0      68   NSW                  10           1         4    4    active  \n",
       "1      41   NSW                  10           4         1    4  inactive  \n",
       "2      60   QLD                   9           1         1    2  inactive  \n",
       "3      44   NSW                   4           2         2    3    active  \n",
       "4      55   VIC                   9           4         2    2  inactive  \n",
       "...   ...   ...                 ...         ...       ...  ...       ...  \n",
       "3903   46   NSW                  12         NaN       NaN    4  inactive  \n",
       "3904   46   VIC                   6         NaN       NaN    1  inactive  \n",
       "3905   20   NSW                   2         NaN       NaN    4  inactive  \n",
       "3906   48   VIC                   3         NaN       NaN    1  inactive  \n",
       "3907   30   QLD                   6         NaN       NaN    4  inactive  \n",
       "\n",
       "[3908 rows x 12 columns]"
      ]
     },
     "execution_count": 103,
     "metadata": {},
     "output_type": "execute_result"
    }
   ],
   "source": [
    "customer_list"
   ]
  },
  {
   "cell_type": "code",
   "execution_count": 104,
   "metadata": {
    "scrolled": true
   },
   "outputs": [],
   "source": [
    "customer_list.loc[customer_list.frequency.isna(), 'status'] = \\\n",
    "customer_list.loc[customer_list.frequency.isna(), 'status'].replace('inactive', value='out')\n",
    "\n",
    "customer_list['frequency'] = pd.to_numeric(customer_list.frequency, downcast='unsigned')\n",
    "customer_list['expenditure'] = pd.to_numeric(customer_list.expenditure, downcast='unsigned')"
   ]
  },
  {
   "cell_type": "code",
   "execution_count": 105,
   "metadata": {},
   "outputs": [],
   "source": [
    "customer_list.frequency.fillna(0, inplace=True)\n",
    "customer_list.expenditure.fillna(0, inplace=True)"
   ]
  },
  {
   "cell_type": "code",
   "execution_count": 106,
   "metadata": {
    "scrolled": true
   },
   "outputs": [],
   "source": [
    "customer_list = customer_list.merge(df_transactions[['customer_id','online_order']].groupby('customer_id',\n",
    "                                                                                            as_index=False).mean())"
   ]
  },
  {
   "cell_type": "code",
   "execution_count": 107,
   "metadata": {},
   "outputs": [],
   "source": [
    "# Create indices to gather the ideal client\n",
    "ind_expenditure = customer_list.expenditure>=2\n",
    "ind_frequency = customer_list.frequency>=3\n",
    "ind_past = customer_list.past>=3\n",
    "ind_activity = customer_list.status == 'active'"
   ]
  },
  {
   "cell_type": "code",
   "execution_count": 108,
   "metadata": {},
   "outputs": [],
   "source": [
    "df_ideal = customer_list.loc[ind_expenditure & ind_frequency & ind_past & ind_activity].drop(columns=['status', 'past',\n",
    "                                                                                           'expenditure', 'frequency'])"
   ]
  },
  {
   "cell_type": "code",
   "execution_count": 109,
   "metadata": {},
   "outputs": [],
   "source": [
    "df_ideal.reset_index(drop=True, inplace=True)\n"
   ]
  },
  {
   "cell_type": "code",
   "execution_count": 124,
   "metadata": {
    "scrolled": true
   },
   "outputs": [
    {
     "data": {
      "text/plain": [
       "Mass Customer        0.547215\n",
       "Affluent Customer    0.256659\n",
       "High Net Worth       0.196126\n",
       "Name: wealth_segment, dtype: float64"
      ]
     },
     "execution_count": 124,
     "metadata": {},
     "output_type": "execute_result"
    }
   ],
   "source": [
    "df_ideal.wealth_segment.value_counts(normalize=True)"
   ]
  },
  {
   "cell_type": "code",
   "execution_count": 150,
   "metadata": {
    "scrolled": true
   },
   "outputs": [
    {
     "data": {
      "image/png": "[encoded data removed]",
      "text/plain": [
       "<Figure size 576x360 with 1 Axes>"
      ]
     },
     "metadata": {
      "needs_background": "light"
     },
     "output_type": "display_data"
    }
   ],
   "source": [
    "plt.figure(figsize=(8,5))\n",
    "sns.distplot(df_ideal.Age, label='HVC')\n",
    "sns.distplot(customer_list.Age, label='All customers')\n",
    "plt.legend()\n",
    "plt.show()"
   ]
  },
  {
   "cell_type": "code",
   "execution_count": 143,
   "metadata": {},
   "outputs": [
    {
     "data": {
      "image/png": "[encoded data removed]",
      "text/plain": [
       "<Figure size 1080x288 with 2 Axes>"
      ]
     },
     "metadata": {
      "needs_background": "light"
     },
     "output_type": "display_data"
    }
   ],
   "source": [
    "plt.subplots(nrows=1, ncols=2, figsize=(15,4))\n",
    "plt.subplot(1,2,1)\n",
    "sns.countplot(df_ideal.property_valuation, orient='h')\n",
    "plt.subplot(1,2,2)\n",
    "sns.countplot(customer_list.property_valuation, orient=\"h\")\n",
    "plt.show()"
   ]
  },
  {
   "cell_type": "markdown",
   "metadata": {},
   "source": [
    "### Cancelled order status"
   ]
  },
  {
   "cell_type": "code",
   "execution_count": 112,
   "metadata": {
    "scrolled": false
   },
   "outputs": [
    {
     "data": {
      "text/plain": [
       "Approved     19152\n",
       "Cancelled      175\n",
       "Name: order_status, dtype: int64"
      ]
     },
     "execution_count": 112,
     "metadata": {},
     "output_type": "execute_result"
    }
   ],
   "source": [
    "df_transactions.order_status.value_counts()"
   ]
  },
  {
   "cell_type": "markdown",
   "metadata": {},
   "source": [
    "##### Is there any specific client that cancelled?"
   ]
  },
  {
   "cell_type": "code",
   "execution_count": 113,
   "metadata": {
    "scrolled": false
   },
   "outputs": [
    {
     "data": {
      "text/plain": [
       "1726    2\n",
       "2916    2\n",
       "2852    2\n",
       "1186    2\n",
       "2073    2\n",
       "       ..\n",
       "190     1\n",
       "926     1\n",
       "2979    1\n",
       "416     1\n",
       "2048    1\n",
       "Name: customer_id, Length: 170, dtype: int64"
      ]
     },
     "execution_count": 113,
     "metadata": {},
     "output_type": "execute_result"
    }
   ],
   "source": [
    "df_transactions.loc[df_transactions.order_status=='Cancelled'].customer_id.value_counts()"
   ]
  },
  {
   "cell_type": "code",
   "execution_count": 114,
   "metadata": {},
   "outputs": [],
   "source": [
    "ind_cancelled = df_transactions.loc[df_transactions.order_status=='Cancelled'].customer_id.value_counts().sort_index().index"
   ]
  },
  {
   "cell_type": "markdown",
   "metadata": {},
   "source": [
    "##### Do online purchases get more cancelled?"
   ]
  },
  {
   "cell_type": "code",
   "execution_count": 115,
   "metadata": {
    "scrolled": true
   },
   "outputs": [
    {
     "data": {
      "text/plain": [
       "1.0    97\n",
       "0.0    78\n",
       "Name: online_order, dtype: int64"
      ]
     },
     "execution_count": 115,
     "metadata": {},
     "output_type": "execute_result"
    }
   ],
   "source": [
    "df_transactions.loc[df_transactions.order_status=='Cancelled'].online_order.value_counts()"
   ]
  },
  {
   "cell_type": "markdown",
   "metadata": {},
   "source": [
    "##### Mean age that cancells?"
   ]
  },
  {
   "cell_type": "code",
   "execution_count": 116,
   "metadata": {
    "scrolled": true
   },
   "outputs": [
    {
     "data": {
      "image/png": "[encoded data removed]",
      "text/plain": [
       "<Figure size 432x288 with 1 Axes>"
      ]
     },
     "metadata": {
      "needs_background": "light"
     },
     "output_type": "display_data"
    },
    {
     "data": {
      "image/png": "[encoded data removed]",
      "text/plain": [
       "<Figure size 432x288 with 1 Axes>"
      ]
     },
     "metadata": {
      "needs_background": "light"
     },
     "output_type": "display_data"
    }
   ],
   "source": [
    "aux = pd.merge(df_transactions[['customer_id', 'order_status']],\n",
    "         customer_list[['customer_id', 'Age']]).drop(columns=['customer_id'])\n",
    "                                               \n",
    "aux.loc[aux.order_status=='Cancelled'].hist()\n",
    "aux.loc[aux.order_status=='Approved'].hist()\n",
    "plt.show()"
   ]
  },
  {
   "cell_type": "code",
   "execution_count": 117,
   "metadata": {
    "scrolled": true
   },
   "outputs": [
    {
     "data": {
      "text/plain": [
       "Solex             42\n",
       "WeareA2B          30\n",
       "Giant Bicycles    28\n",
       "OHM Cycles        27\n",
       "Trek Bicycles     24\n",
       "Norco Bicycles    24\n",
       "Name: brand, dtype: int64"
      ]
     },
     "execution_count": 117,
     "metadata": {},
     "output_type": "execute_result"
    }
   ],
   "source": [
    "df_transactions.loc[df_transactions.order_status=='Cancelled', 'brand'].value_counts()"
   ]
  },
  {
   "cell_type": "code",
   "execution_count": 118,
   "metadata": {
    "scrolled": false
   },
   "outputs": [
    {
     "data": {
      "text/plain": [
       "4.0    60\n",
       "2.0    58\n",
       "3.0    27\n",
       "1.0    25\n",
       "Name: frequency, dtype: int64"
      ]
     },
     "execution_count": 118,
     "metadata": {},
     "output_type": "execute_result"
    }
   ],
   "source": [
    "customer_list.loc[customer_list.customer_id.isin(list(ind_cancelled))].frequency.value_counts()"
   ]
  },
  {
   "cell_type": "code",
   "execution_count": 119,
   "metadata": {
    "scrolled": true
   },
   "outputs": [
    {
     "data": {
      "text/plain": [
       "2.0    1159\n",
       "1.0    1110\n",
       "4.0     689\n",
       "3.0     454\n",
       "Name: frequency, dtype: int64"
      ]
     },
     "execution_count": 119,
     "metadata": {},
     "output_type": "execute_result"
    }
   ],
   "source": [
    "customer_list.frequency.value_counts()"
   ]
  },
  {
   "cell_type": "markdown",
   "metadata": {},
   "source": [
    "### Online shopping"
   ]
  },
  {
   "cell_type": "markdown",
   "metadata": {},
   "source": [
    "##### Is online shopping more profitable?"
   ]
  },
  {
   "cell_type": "code",
   "execution_count": 120,
   "metadata": {},
   "outputs": [
    {
     "data": {
      "text/html": [
       "<div>\n",
       "<style scoped>\n",
       "    .dataframe tbody tr th:only-of-type {\n",
       "        vertical-align: middle;\n",
       "    }\n",
       "\n",
       "    .dataframe tbody tr th {\n",
       "        vertical-align: top;\n",
       "    }\n",
       "\n",
       "    .dataframe thead tr th {\n",
       "        text-align: left;\n",
       "    }\n",
       "\n",
       "    .dataframe thead tr:last-of-type th {\n",
       "        text-align: right;\n",
       "    }\n",
       "</style>\n",
       "<table border=\"1\" class=\"dataframe\">\n",
       "  <thead>\n",
       "    <tr>\n",
       "      <th></th>\n",
       "      <th>mean</th>\n",
       "      <th>median</th>\n",
       "    </tr>\n",
       "    <tr>\n",
       "      <th></th>\n",
       "      <th>profit</th>\n",
       "      <th>profit</th>\n",
       "    </tr>\n",
       "    <tr>\n",
       "      <th>online_order</th>\n",
       "      <th></th>\n",
       "      <th></th>\n",
       "    </tr>\n",
       "  </thead>\n",
       "  <tbody>\n",
       "    <tr>\n",
       "      <th>0.0</th>\n",
       "      <td>553.053423</td>\n",
       "      <td>445.21</td>\n",
       "    </tr>\n",
       "    <tr>\n",
       "      <th>1.0</th>\n",
       "      <td>548.363752</td>\n",
       "      <td>445.21</td>\n",
       "    </tr>\n",
       "  </tbody>\n",
       "</table>\n",
       "</div>"
      ],
      "text/plain": [
       "                    mean  median\n",
       "                  profit  profit\n",
       "online_order                    \n",
       "0.0           553.053423  445.21\n",
       "1.0           548.363752  445.21"
      ]
     },
     "execution_count": 120,
     "metadata": {},
     "output_type": "execute_result"
    }
   ],
   "source": [
    "pd.pivot_table(df_transactions, index='online_order', values='profit', aggfunc=['mean', 'median'])"
   ]
  },
  {
   "cell_type": "markdown",
   "metadata": {},
   "source": [
    "##### Do people buy more online or in the store?"
   ]
  },
  {
   "cell_type": "code",
   "execution_count": 121,
   "metadata": {
    "scrolled": true
   },
   "outputs": [
    {
     "data": {
      "text/plain": [
       "1.0    9708\n",
       "0.0    9619\n",
       "Name: online_order, dtype: int64"
      ]
     },
     "execution_count": 121,
     "metadata": {},
     "output_type": "execute_result"
    }
   ],
   "source": [
    "df_transactions.online_order.value_counts()"
   ]
  },
  {
   "cell_type": "markdown",
   "metadata": {},
   "source": [
    "##### Do people with car buy more in the store?"
   ]
  },
  {
   "cell_type": "code",
   "execution_count": 122,
   "metadata": {},
   "outputs": [
    {
     "data": {
      "text/plain": [
       "online_order  owns_car\n",
       "0.0           No          4813\n",
       "              Yes         4806\n",
       "1.0           No          4816\n",
       "              Yes         4892\n",
       "dtype: int64"
      ]
     },
     "execution_count": 122,
     "metadata": {},
     "output_type": "execute_result"
    }
   ],
   "source": [
    "pd.merge(df_transactions[['customer_id', 'online_order']],\n",
    "         customer_list[['customer_id', 'owns_car']]).drop(columns=['customer_id']).groupby(['online_order',\n",
    "                                                                                           'owns_car']).size()"
   ]
  }
 ],
 "metadata": {
  "celltoolbar": "Raw Cell Format",
  "kernelspec": {
   "display_name": "Python 3",
   "language": "python",
   "name": "python3"
  },
  "language_info": {
   "codemirror_mode": {
    "name": "ipython",
    "version": 3
   },
   "file_extension": ".py",
   "mimetype": "text/x-python",
   "name": "python",
   "nbconvert_exporter": "python",
   "pygments_lexer": "ipython3",
   "version": "3.8.3"
  }
 },
 "nbformat": 4,
 "nbformat_minor": 4
}
